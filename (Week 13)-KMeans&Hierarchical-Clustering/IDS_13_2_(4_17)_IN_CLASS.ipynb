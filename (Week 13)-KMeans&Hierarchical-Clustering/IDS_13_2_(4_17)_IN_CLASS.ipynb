{
 "cells": [
  {
   "cell_type": "markdown",
   "metadata": {
    "id": "-HTAFNtaHxXn"
   },
   "source": [
    "# Unsupervised Learning with Hierarchical Clustering  \n",
    "### What will we learn?\n",
    "* The intuition behind hierarchical (agglomerative) clustering and the Ward linkage.  \n",
    "* How to read a dendrogram and decide on an appropriate number of clusters.  \n",
    "* Practical data‑preprocessing steps (selecting numeric columns, scaling).  \n",
    "* Dimensionality reduction with PCA for 2‑D exploratory plots.  \n",
    "* Communicating cluster insights on a world map."
   ]
  },
  {
   "cell_type": "markdown",
   "metadata": {
    "id": "tEGfGetsSXhk"
   },
   "source": [
    "### Part 1: Loading the Country‑Level Indicator Data  \n",
    "We will use the *“Country‑data.csv”* file from Kaggle  \n",
    "(<https://www.kaggle.com/datasets/rohan0301/unsupervised-learning-on-country-data>).  \n",
    "Each row represents a country and each column an economic or health indicator (e.g., GDP per capita, child mortality).  "
   ]
  },
  {
   "cell_type": "code",
   "execution_count": 2,
   "metadata": {
    "id": "jiUWHSK_JAYk"
   },
   "outputs": [
    {
     "name": "stdout",
     "output_type": "stream",
     "text": [
      "Downloading from https://www.kaggle.com/api/v1/datasets/download/rohan0301/unsupervised-learning-on-country-data?dataset_version_number=2...\n"
     ]
    },
    {
     "name": "stderr",
     "output_type": "stream",
     "text": [
      "100%|██████████| 5.21k/5.21k [00:00<00:00, 3.39MB/s]"
     ]
    },
    {
     "name": "stdout",
     "output_type": "stream",
     "text": [
      "Extracting files...\n",
      "Path to dataset files: /Users/ronnie06/.cache/kagglehub/datasets/rohan0301/unsupervised-learning-on-country-data/versions/2\n"
     ]
    },
    {
     "name": "stderr",
     "output_type": "stream",
     "text": [
      "\n"
     ]
    }
   ],
   "source": [
    "import kagglehub\n",
    "\n",
    "# Download latest version\n",
    "path = kagglehub.dataset_download(\"rohan0301/unsupervised-learning-on-country-data\")\n",
    "\n",
    "print(\"Path to dataset files:\", path)"
   ]
  },
  {
   "cell_type": "code",
   "execution_count": 3,
   "metadata": {
    "id": "iSFVVS_oJIc8"
   },
   "outputs": [
    {
     "data": {
      "text/html": [
       "<div>\n",
       "<style scoped>\n",
       "    .dataframe tbody tr th:only-of-type {\n",
       "        vertical-align: middle;\n",
       "    }\n",
       "\n",
       "    .dataframe tbody tr th {\n",
       "        vertical-align: top;\n",
       "    }\n",
       "\n",
       "    .dataframe thead th {\n",
       "        text-align: right;\n",
       "    }\n",
       "</style>\n",
       "<table border=\"1\" class=\"dataframe\">\n",
       "  <thead>\n",
       "    <tr style=\"text-align: right;\">\n",
       "      <th></th>\n",
       "      <th>country</th>\n",
       "      <th>child_mort</th>\n",
       "      <th>exports</th>\n",
       "      <th>health</th>\n",
       "      <th>imports</th>\n",
       "      <th>income</th>\n",
       "      <th>inflation</th>\n",
       "      <th>life_expec</th>\n",
       "      <th>total_fer</th>\n",
       "      <th>gdpp</th>\n",
       "    </tr>\n",
       "  </thead>\n",
       "  <tbody>\n",
       "    <tr>\n",
       "      <th>0</th>\n",
       "      <td>Afghanistan</td>\n",
       "      <td>90.2</td>\n",
       "      <td>10.0</td>\n",
       "      <td>7.58</td>\n",
       "      <td>44.9</td>\n",
       "      <td>1610</td>\n",
       "      <td>9.44</td>\n",
       "      <td>56.2</td>\n",
       "      <td>5.82</td>\n",
       "      <td>553</td>\n",
       "    </tr>\n",
       "    <tr>\n",
       "      <th>1</th>\n",
       "      <td>Albania</td>\n",
       "      <td>16.6</td>\n",
       "      <td>28.0</td>\n",
       "      <td>6.55</td>\n",
       "      <td>48.6</td>\n",
       "      <td>9930</td>\n",
       "      <td>4.49</td>\n",
       "      <td>76.3</td>\n",
       "      <td>1.65</td>\n",
       "      <td>4090</td>\n",
       "    </tr>\n",
       "    <tr>\n",
       "      <th>2</th>\n",
       "      <td>Algeria</td>\n",
       "      <td>27.3</td>\n",
       "      <td>38.4</td>\n",
       "      <td>4.17</td>\n",
       "      <td>31.4</td>\n",
       "      <td>12900</td>\n",
       "      <td>16.10</td>\n",
       "      <td>76.5</td>\n",
       "      <td>2.89</td>\n",
       "      <td>4460</td>\n",
       "    </tr>\n",
       "    <tr>\n",
       "      <th>3</th>\n",
       "      <td>Angola</td>\n",
       "      <td>119.0</td>\n",
       "      <td>62.3</td>\n",
       "      <td>2.85</td>\n",
       "      <td>42.9</td>\n",
       "      <td>5900</td>\n",
       "      <td>22.40</td>\n",
       "      <td>60.1</td>\n",
       "      <td>6.16</td>\n",
       "      <td>3530</td>\n",
       "    </tr>\n",
       "    <tr>\n",
       "      <th>4</th>\n",
       "      <td>Antigua and Barbuda</td>\n",
       "      <td>10.3</td>\n",
       "      <td>45.5</td>\n",
       "      <td>6.03</td>\n",
       "      <td>58.9</td>\n",
       "      <td>19100</td>\n",
       "      <td>1.44</td>\n",
       "      <td>76.8</td>\n",
       "      <td>2.13</td>\n",
       "      <td>12200</td>\n",
       "    </tr>\n",
       "  </tbody>\n",
       "</table>\n",
       "</div>"
      ],
      "text/plain": [
       "               country  child_mort  exports  health  imports  income  \\\n",
       "0          Afghanistan        90.2     10.0    7.58     44.9    1610   \n",
       "1              Albania        16.6     28.0    6.55     48.6    9930   \n",
       "2              Algeria        27.3     38.4    4.17     31.4   12900   \n",
       "3               Angola       119.0     62.3    2.85     42.9    5900   \n",
       "4  Antigua and Barbuda        10.3     45.5    6.03     58.9   19100   \n",
       "\n",
       "   inflation  life_expec  total_fer   gdpp  \n",
       "0       9.44        56.2       5.82    553  \n",
       "1       4.49        76.3       1.65   4090  \n",
       "2      16.10        76.5       2.89   4460  \n",
       "3      22.40        60.1       6.16   3530  \n",
       "4       1.44        76.8       2.13  12200  "
      ]
     },
     "execution_count": 3,
     "metadata": {},
     "output_type": "execute_result"
    }
   ],
   "source": [
    "import pandas as pd\n",
    "import numpy as np\n",
    "import matplotlib.pyplot as plt\n",
    "import os\n",
    "\n",
    "# Assuming your CSV file is named 'Country-data.csv'\n",
    "# and is located inside the downloaded directory\n",
    "file_path = os.path.join(path, 'Country-data.csv')\n",
    "\n",
    "# Now read the CSV file using the file_path\n",
    "data = pd.read_csv(file_path)\n",
    "data.head() # Print the first few rows of the DataFrame"
   ]
  },
  {
   "cell_type": "markdown",
   "metadata": {
    "id": "mv2jCW3SH6By"
   },
   "source": [
    "### Part 2: Feature Selection & Quick EDA\n",
    "* We keep only our features (e.g. everything but country names)."
   ]
  },
  {
   "cell_type": "code",
   "execution_count": null,
   "metadata": {
    "id": "ECNEhuLHSu-L"
   },
   "outputs": [
    {
     "data": {
      "text/plain": [
       "array([[<Axes: title={'center': 'child_mort'}>,\n",
       "        <Axes: title={'center': 'exports'}>,\n",
       "        <Axes: title={'center': 'health'}>],\n",
       "       [<Axes: title={'center': 'imports'}>,\n",
       "        <Axes: title={'center': 'income'}>,\n",
       "        <Axes: title={'center': 'inflation'}>],\n",
       "       [<Axes: title={'center': 'life_expec'}>,\n",
       "        <Axes: title={'center': 'total_fer'}>,\n",
       "        <Axes: title={'center': 'gdpp'}>]], dtype=object)"
      ]
     },
     "execution_count": 4,
     "metadata": {},
     "output_type": "execute_result"
    },
    {
     "data": {
      "image/png": "[encoded data removed]",
      "text/plain": [
       "<Figure size 1200x800 with 9 Axes>"
      ]
     },
     "metadata": {},
     "output_type": "display_data"
    }
   ],
   "source": [
    "features_df = data.drop(columns = [\"country\"])\n",
    "# Optional sanity‑check visual\n",
    "# we dont want to keep country because its not very helpful - unique indicator\n",
    "\n",
    "# build a histogram with all the features\n",
    "features_df.hist(figsize = (12,8)) # distributions for each individual country based off of the features"
   ]
  },
  {
   "cell_type": "markdown",
   "metadata": {
    "id": "zCR-y-pAU2mG"
   },
   "source": [
    "### Part 3: Standardize by Scaling\n",
    "- Hierarchical clustering uses Euclidean distance; indicators measured on different scales (GDP vs. fertility) would dominate the metric.  \n",
    "- We standardise to zero mean / unit variance using `StandardScaler`.  \n"
   ]
  },
  {
   "cell_type": "code",
   "execution_count": 8,
   "metadata": {
    "id": "SCiANpULU-am"
   },
   "outputs": [
    {
     "data": {
      "text/plain": [
       "array([[ 1.29153238, -1.13827979,  0.27908825, ..., -1.61909203,\n",
       "         1.90288227, -0.67917961],\n",
       "       [-0.5389489 , -0.47965843, -0.09701618, ...,  0.64786643,\n",
       "        -0.85997281, -0.48562324],\n",
       "       [-0.27283273, -0.09912164, -0.96607302, ...,  0.67042323,\n",
       "        -0.0384044 , -0.46537561],\n",
       "       ...,\n",
       "       [-0.37231541,  1.13030491,  0.0088773 , ...,  0.28695762,\n",
       "        -0.66120626, -0.63775406],\n",
       "       [ 0.44841668, -0.40647827, -0.59727159, ..., -0.34463279,\n",
       "         1.14094382, -0.63775406],\n",
       "       [ 1.11495062, -0.15034774, -0.33801514, ..., -2.09278484,\n",
       "         1.6246091 , -0.62954556]])"
      ]
     },
     "execution_count": 8,
     "metadata": {},
     "output_type": "execute_result"
    }
   ],
   "source": [
    "# since we're using distances, we need to put everything on the same scale\n",
    "from sklearn.preprocessing import StandardScaler\n",
    "\n",
    "scaler = StandardScaler()\n",
    "X_scaled = scaler.fit_transform(features_df)\n",
    "X_scaled"
   ]
  },
  {
   "cell_type": "markdown",
   "metadata": {
    "id": "0MK5MY2uVDW5"
   },
   "source": [
    "### Part 5: Building the Hierarchical Tree\n",
    "* **Ward linkage** merges clusters that yield the *smallest* increase in total within‑cluster variance.  \n",
    "* The dendrogram gives us two insights:  \n",
    "  1. Similarity structure (who merges early).  \n",
    "  2. Reasonable cut heights (horizontal line) for k clusters.  \n",
    "We truncate to the last 30 merges to keep the plot readable.  "
   ]
  },
  {
   "cell_type": "code",
   "execution_count": null,
   "metadata": {
    "id": "fIf3HAtbH6V7"
   },
   "outputs": [
    {
     "data": {
      "text/plain": [
       "{'icoord': [[15.0, 15.0, 25.0, 25.0],\n",
       "  [5.0, 5.0, 20.0, 20.0],\n",
       "  [45.0, 45.0, 55.0, 55.0],\n",
       "  [65.0, 65.0, 75.0, 75.0],\n",
       "  [50.0, 50.0, 70.0, 70.0],\n",
       "  [95.0, 95.0, 105.0, 105.0],\n",
       "  [85.0, 85.0, 100.0, 100.0],\n",
       "  [60.0, 60.0, 92.5, 92.5],\n",
       "  [35.0, 35.0, 76.25, 76.25],\n",
       "  [125.0, 125.0, 135.0, 135.0],\n",
       "  [115.0, 115.0, 130.0, 130.0],\n",
       "  [145.0, 145.0, 155.0, 155.0],\n",
       "  [122.5, 122.5, 150.0, 150.0],\n",
       "  [185.0, 185.0, 195.0, 195.0],\n",
       "  [175.0, 175.0, 190.0, 190.0],\n",
       "  [215.0, 215.0, 225.0, 225.0],\n",
       "  [205.0, 205.0, 220.0, 220.0],\n",
       "  [182.5, 182.5, 212.5, 212.5],\n",
       "  [235.0, 235.0, 245.0, 245.0],\n",
       "  [255.0, 255.0, 265.0, 265.0],\n",
       "  [240.0, 240.0, 260.0, 260.0],\n",
       "  [285.0, 285.0, 295.0, 295.0],\n",
       "  [305.0, 305.0, 315.0, 315.0],\n",
       "  [325.0, 325.0, 335.0, 335.0],\n",
       "  [310.0, 310.0, 330.0, 330.0],\n",
       "  [290.0, 290.0, 320.0, 320.0],\n",
       "  [275.0, 275.0, 305.0, 305.0],\n",
       "  [250.0, 250.0, 290.0, 290.0],\n",
       "  [197.5, 197.5, 270.0, 270.0],\n",
       "  [165.0, 165.0, 233.75, 233.75],\n",
       "  [136.25, 136.25, 199.375, 199.375],\n",
       "  [55.625, 55.625, 167.8125, 167.8125],\n",
       "  [12.5, 12.5, 111.71875, 111.71875],\n",
       "  [385.0, 385.0, 395.0, 395.0],\n",
       "  [405.0, 405.0, 415.0, 415.0],\n",
       "  [390.0, 390.0, 410.0, 410.0],\n",
       "  [375.0, 375.0, 400.0, 400.0],\n",
       "  [365.0, 365.0, 387.5, 387.5],\n",
       "  [355.0, 355.0, 376.25, 376.25],\n",
       "  [425.0, 425.0, 435.0, 435.0],\n",
       "  [455.0, 455.0, 465.0, 465.0],\n",
       "  [445.0, 445.0, 460.0, 460.0],\n",
       "  [430.0, 430.0, 452.5, 452.5],\n",
       "  [485.0, 485.0, 495.0, 495.0],\n",
       "  [475.0, 475.0, 490.0, 490.0],\n",
       "  [441.25, 441.25, 482.5, 482.5],\n",
       "  [525.0, 525.0, 535.0, 535.0],\n",
       "  [515.0, 515.0, 530.0, 530.0],\n",
       "  [555.0, 555.0, 565.0, 565.0],\n",
       "  [545.0, 545.0, 560.0, 560.0],\n",
       "  [522.5, 522.5, 552.5, 552.5],\n",
       "  [505.0, 505.0, 537.5, 537.5],\n",
       "  [595.0, 595.0, 605.0, 605.0],\n",
       "  [585.0, 585.0, 600.0, 600.0],\n",
       "  [575.0, 575.0, 592.5, 592.5],\n",
       "  [521.25, 521.25, 583.75, 583.75],\n",
       "  [461.875, 461.875, 552.5, 552.5],\n",
       "  [365.625, 365.625, 507.1875, 507.1875],\n",
       "  [345.0, 345.0, 436.40625, 436.40625],\n",
       "  [635.0, 635.0, 645.0, 645.0],\n",
       "  [625.0, 625.0, 640.0, 640.0],\n",
       "  [615.0, 615.0, 632.5, 632.5],\n",
       "  [665.0, 665.0, 675.0, 675.0],\n",
       "  [655.0, 655.0, 670.0, 670.0],\n",
       "  [705.0, 705.0, 715.0, 715.0],\n",
       "  [695.0, 695.0, 710.0, 710.0],\n",
       "  [735.0, 735.0, 745.0, 745.0],\n",
       "  [725.0, 725.0, 740.0, 740.0],\n",
       "  [702.5, 702.5, 732.5, 732.5],\n",
       "  [685.0, 685.0, 717.5, 717.5],\n",
       "  [662.5, 662.5, 701.25, 701.25],\n",
       "  [623.75, 623.75, 681.875, 681.875],\n",
       "  [755.0, 755.0, 765.0, 765.0],\n",
       "  [775.0, 775.0, 785.0, 785.0],\n",
       "  [795.0, 795.0, 805.0, 805.0],\n",
       "  [780.0, 780.0, 800.0, 800.0],\n",
       "  [760.0, 760.0, 790.0, 790.0],\n",
       "  [825.0, 825.0, 835.0, 835.0],\n",
       "  [855.0, 855.0, 865.0, 865.0],\n",
       "  [845.0, 845.0, 860.0, 860.0],\n",
       "  [830.0, 830.0, 852.5, 852.5],\n",
       "  [815.0, 815.0, 841.25, 841.25],\n",
       "  [775.0, 775.0, 828.125, 828.125],\n",
       "  [875.0, 875.0, 885.0, 885.0],\n",
       "  [915.0, 915.0, 925.0, 925.0],\n",
       "  [905.0, 905.0, 920.0, 920.0],\n",
       "  [895.0, 895.0, 912.5, 912.5],\n",
       "  [935.0, 935.0, 945.0, 945.0],\n",
       "  [965.0, 965.0, 975.0, 975.0],\n",
       "  [955.0, 955.0, 970.0, 970.0],\n",
       "  [940.0, 940.0, 962.5, 962.5],\n",
       "  [903.75, 903.75, 951.25, 951.25],\n",
       "  [880.0, 880.0, 927.5, 927.5],\n",
       "  [985.0, 985.0, 995.0, 995.0],\n",
       "  [1005.0, 1005.0, 1015.0, 1015.0],\n",
       "  [990.0, 990.0, 1010.0, 1010.0],\n",
       "  [1025.0, 1025.0, 1035.0, 1035.0],\n",
       "  [1065.0, 1065.0, 1075.0, 1075.0],\n",
       "  [1055.0, 1055.0, 1070.0, 1070.0],\n",
       "  [1045.0, 1045.0, 1062.5, 1062.5],\n",
       "  [1030.0, 1030.0, 1053.75, 1053.75],\n",
       "  [1105.0, 1105.0, 1115.0, 1115.0],\n",
       "  [1095.0, 1095.0, 1110.0, 1110.0],\n",
       "  [1085.0, 1085.0, 1102.5, 1102.5],\n",
       "  [1041.875, 1041.875, 1093.75, 1093.75],\n",
       "  [1000.0, 1000.0, 1067.8125, 1067.8125],\n",
       "  [903.75, 903.75, 1033.90625, 1033.90625],\n",
       "  [1125.0, 1125.0, 1135.0, 1135.0],\n",
       "  [1165.0, 1165.0, 1175.0, 1175.0],\n",
       "  [1155.0, 1155.0, 1170.0, 1170.0],\n",
       "  [1145.0, 1145.0, 1162.5, 1162.5],\n",
       "  [1130.0, 1130.0, 1153.75, 1153.75],\n",
       "  [1225.0, 1225.0, 1235.0, 1235.0],\n",
       "  [1215.0, 1215.0, 1230.0, 1230.0],\n",
       "  [1205.0, 1205.0, 1222.5, 1222.5],\n",
       "  [1195.0, 1195.0, 1213.75, 1213.75],\n",
       "  [1185.0, 1185.0, 1204.375, 1204.375],\n",
       "  [1141.875, 1141.875, 1194.6875, 1194.6875],\n",
       "  [968.828125, 968.828125, 1168.28125, 1168.28125],\n",
       "  [801.5625, 801.5625, 1068.5546875, 1068.5546875],\n",
       "  [652.8125, 652.8125, 935.05859375, 935.05859375],\n",
       "  [1275.0, 1275.0, 1285.0, 1285.0],\n",
       "  [1265.0, 1265.0, 1280.0, 1280.0],\n",
       "  [1255.0, 1255.0, 1272.5, 1272.5],\n",
       "  [1295.0, 1295.0, 1305.0, 1305.0],\n",
       "  [1335.0, 1335.0, 1345.0, 1345.0],\n",
       "  [1325.0, 1325.0, 1340.0, 1340.0],\n",
       "  [1315.0, 1315.0, 1332.5, 1332.5],\n",
       "  [1300.0, 1300.0, 1323.75, 1323.75],\n",
       "  [1263.75, 1263.75, 1311.875, 1311.875],\n",
       "  [1365.0, 1365.0, 1375.0, 1375.0],\n",
       "  [1355.0, 1355.0, 1370.0, 1370.0],\n",
       "  [1385.0, 1385.0, 1395.0, 1395.0],\n",
       "  [1415.0, 1415.0, 1425.0, 1425.0],\n",
       "  [1405.0, 1405.0, 1420.0, 1420.0],\n",
       "  [1435.0, 1435.0, 1445.0, 1445.0],\n",
       "  [1455.0, 1455.0, 1465.0, 1465.0],\n",
       "  [1485.0, 1485.0, 1495.0, 1495.0],\n",
       "  [1475.0, 1475.0, 1490.0, 1490.0],\n",
       "  [1460.0, 1460.0, 1482.5, 1482.5],\n",
       "  [1440.0, 1440.0, 1471.25, 1471.25],\n",
       "  [1412.5, 1412.5, 1455.625, 1455.625],\n",
       "  [1390.0, 1390.0, 1434.0625, 1434.0625],\n",
       "  [1362.5, 1362.5, 1412.03125, 1412.03125],\n",
       "  [1535.0, 1535.0, 1545.0, 1545.0],\n",
       "  [1525.0, 1525.0, 1540.0, 1540.0],\n",
       "  [1515.0, 1515.0, 1532.5, 1532.5],\n",
       "  [1505.0, 1505.0, 1523.75, 1523.75],\n",
       "  [1555.0, 1555.0, 1565.0, 1565.0],\n",
       "  [1585.0, 1585.0, 1595.0, 1595.0],\n",
       "  [1575.0, 1575.0, 1590.0, 1590.0],\n",
       "  [1560.0, 1560.0, 1582.5, 1582.5],\n",
       "  [1514.375, 1514.375, 1571.25, 1571.25],\n",
       "  [1605.0, 1605.0, 1615.0, 1615.0],\n",
       "  [1625.0, 1625.0, 1635.0, 1635.0],\n",
       "  [1610.0, 1610.0, 1630.0, 1630.0],\n",
       "  [1655.0, 1655.0, 1665.0, 1665.0],\n",
       "  [1645.0, 1645.0, 1660.0, 1660.0],\n",
       "  [1620.0, 1620.0, 1652.5, 1652.5],\n",
       "  [1542.8125, 1542.8125, 1636.25, 1636.25],\n",
       "  [1387.265625, 1387.265625, 1589.53125, 1589.53125],\n",
       "  [1287.8125, 1287.8125, 1488.3984375, 1488.3984375],\n",
       "  [1245.0, 1245.0, 1388.10546875, 1388.10546875],\n",
       "  [793.935546875, 793.935546875, 1316.552734375, 1316.552734375],\n",
       "  [390.703125, 390.703125, 1055.244140625, 1055.244140625],\n",
       "  [62.109375, 62.109375, 722.9736328125, 722.9736328125]],\n",
       " 'dcoord': [[0.0, 3.735651227120542, 3.735651227120542, 0.0],\n",
       "  [0.0, 5.295714031550921, 5.295714031550921, 3.735651227120542],\n",
       "  [0.0, 0.9043133222810316, 0.9043133222810316, 0.0],\n",
       "  [0.0, 1.170366807936496, 1.170366807936496, 0.0],\n",
       "  [0.9043133222810316,\n",
       "   1.517794864382205,\n",
       "   1.517794864382205,\n",
       "   1.170366807936496],\n",
       "  [0.0, 0.6884151430402413, 0.6884151430402413, 0.0],\n",
       "  [0.0, 2.1516957939151364, 2.1516957939151364, 0.6884151430402413],\n",
       "  [1.517794864382205,\n",
       "   3.700749050913201,\n",
       "   3.700749050913201,\n",
       "   2.1516957939151364],\n",
       "  [0.0, 6.101323321758105, 6.101323321758105, 3.700749050913201],\n",
       "  [0.0, 0.7771931590498599, 0.7771931590498599, 0.0],\n",
       "  [0.0, 1.808623952683962, 1.808623952683962, 0.7771931590498599],\n",
       "  [0.0, 1.8502656644019186, 1.8502656644019186, 0.0],\n",
       "  [1.808623952683962,\n",
       "   4.219764907114704,\n",
       "   4.219764907114704,\n",
       "   1.8502656644019186],\n",
       "  [0.0, 0.5687993804893992, 0.5687993804893992, 0.0],\n",
       "  [0.0, 0.9155511476996105, 0.9155511476996105, 0.5687993804893992],\n",
       "  [0.0, 0.6747847700403249, 0.6747847700403249, 0.0],\n",
       "  [0.0, 0.9960527679965082, 0.9960527679965082, 0.6747847700403249],\n",
       "  [0.9155511476996105,\n",
       "   1.435561915675538,\n",
       "   1.435561915675538,\n",
       "   0.9960527679965082],\n",
       "  [0.0, 0.5903199604385481, 0.5903199604385481, 0.0],\n",
       "  [0.0, 0.8186827704817732, 0.8186827704817732, 0.0],\n",
       "  [0.5903199604385481,\n",
       "   1.6519134185277855,\n",
       "   1.6519134185277855,\n",
       "   0.8186827704817732],\n",
       "  [0.0, 0.5441051612061506, 0.5441051612061506, 0.0],\n",
       "  [0.0, 0.34593962628364383, 0.34593962628364383, 0.0],\n",
       "  [0.0, 0.49433037946473385, 0.49433037946473385, 0.0],\n",
       "  [0.34593962628364383,\n",
       "   0.7999555250872901,\n",
       "   0.7999555250872901,\n",
       "   0.49433037946473385],\n",
       "  [0.5441051612061506,\n",
       "   1.3200987253103162,\n",
       "   1.3200987253103162,\n",
       "   0.7999555250872901],\n",
       "  [0.0, 1.7309206494375862, 1.7309206494375862, 1.3200987253103162],\n",
       "  [1.6519134185277855,\n",
       "   2.2433233606135548,\n",
       "   2.2433233606135548,\n",
       "   1.7309206494375862],\n",
       "  [1.435561915675538,\n",
       "   3.3649079857772035,\n",
       "   3.3649079857772035,\n",
       "   2.2433233606135548],\n",
       "  [0.0, 4.337811962776959, 4.337811962776959, 3.3649079857772035],\n",
       "  [4.219764907114704, 6.336779657864535, 6.336779657864535, 4.337811962776959],\n",
       "  [6.101323321758105,\n",
       "   11.481412847927356,\n",
       "   11.481412847927356,\n",
       "   6.336779657864535],\n",
       "  [5.295714031550921,\n",
       "   16.289646261006837,\n",
       "   16.289646261006837,\n",
       "   11.481412847927356],\n",
       "  [0.0, 0.9555438039180308, 0.9555438039180308, 0.0],\n",
       "  [0.0, 0.9946353096955459, 0.9946353096955459, 0.0],\n",
       "  [0.9555438039180308,\n",
       "   1.4163913353921693,\n",
       "   1.4163913353921693,\n",
       "   0.9946353096955459],\n",
       "  [0.0, 1.8942767538970353, 1.8942767538970353, 1.4163913353921693],\n",
       "  [0.0, 2.274772670742351, 2.274772670742351, 1.8942767538970353],\n",
       "  [0.0, 3.231634337219302, 3.231634337219302, 2.274772670742351],\n",
       "  [0.0, 0.8870575264016088, 0.8870575264016088, 0.0],\n",
       "  [0.0, 0.6275312747806466, 0.6275312747806466, 0.0],\n",
       "  [0.0, 1.016547853643405, 1.016547853643405, 0.6275312747806466],\n",
       "  [0.8870575264016088,\n",
       "   1.3586392241047835,\n",
       "   1.3586392241047835,\n",
       "   1.016547853643405],\n",
       "  [0.0, 0.7914112832859375, 0.7914112832859375, 0.0],\n",
       "  [0.0, 2.004714776517836, 2.004714776517836, 0.7914112832859375],\n",
       "  [1.3586392241047835,\n",
       "   2.025216031088743,\n",
       "   2.025216031088743,\n",
       "   2.004714776517836],\n",
       "  [0.0, 0.6817515024435791, 0.6817515024435791, 0.0],\n",
       "  [0.0, 1.1828546229516697, 1.1828546229516697, 0.6817515024435791],\n",
       "  [0.0, 0.8366136025169926, 0.8366136025169926, 0.0],\n",
       "  [0.0, 1.208420887322603, 1.208420887322603, 0.8366136025169926],\n",
       "  [1.1828546229516697,\n",
       "   1.7663185806220392,\n",
       "   1.7663185806220392,\n",
       "   1.208420887322603],\n",
       "  [0.0, 2.2161399154283696, 2.2161399154283696, 1.7663185806220392],\n",
       "  [0.0, 0.8167607488792794, 0.8167607488792794, 0.0],\n",
       "  [0.0, 1.1428655810350632, 1.1428655810350632, 0.8167607488792794],\n",
       "  [0.0, 2.3609562147730236, 2.3609562147730236, 1.1428655810350632],\n",
       "  [2.2161399154283696,\n",
       "   3.536217113392962,\n",
       "   3.536217113392962,\n",
       "   2.3609562147730236],\n",
       "  [2.025216031088743,\n",
       "   4.0710675834599375,\n",
       "   4.0710675834599375,\n",
       "   3.536217113392962],\n",
       "  [3.231634337219302,\n",
       "   5.280727549838166,\n",
       "   5.280727549838166,\n",
       "   4.0710675834599375],\n",
       "  [0.0, 6.072723209366381, 6.072723209366381, 5.280727549838166],\n",
       "  [0.0, 1.2456480477266465, 1.2456480477266465, 0.0],\n",
       "  [0.0, 1.8508316760800472, 1.8508316760800472, 1.2456480477266465],\n",
       "  [0.0, 2.8813956823086415, 2.8813956823086415, 1.8508316760800472],\n",
       "  [0.0, 1.0359566670107423, 1.0359566670107423, 0.0],\n",
       "  [0.0, 1.7937351448723033, 1.7937351448723033, 1.0359566670107423],\n",
       "  [0.0, 0.7227852247272459, 0.7227852247272459, 0.0],\n",
       "  [0.0, 0.907564283736408, 0.907564283736408, 0.7227852247272459],\n",
       "  [0.0, 0.7370634961590443, 0.7370634961590443, 0.0],\n",
       "  [0.0, 1.0634715894750892, 1.0634715894750892, 0.7370634961590443],\n",
       "  [0.907564283736408,\n",
       "   1.740333264327209,\n",
       "   1.740333264327209,\n",
       "   1.0634715894750892],\n",
       "  [0.0, 2.204620243860355, 2.204620243860355, 1.740333264327209],\n",
       "  [1.7937351448723033,\n",
       "   3.6973315190486025,\n",
       "   3.6973315190486025,\n",
       "   2.204620243860355],\n",
       "  [2.8813956823086415,\n",
       "   6.522702328072142,\n",
       "   6.522702328072142,\n",
       "   3.6973315190486025],\n",
       "  [0.0, 0.6399128375485581, 0.6399128375485581, 0.0],\n",
       "  [0.0, 0.6495199332144692, 0.6495199332144692, 0.0],\n",
       "  [0.0, 0.6672894823864225, 0.6672894823864225, 0.0],\n",
       "  [0.6495199332144692,\n",
       "   1.1094573833424328,\n",
       "   1.1094573833424328,\n",
       "   0.6672894823864225],\n",
       "  [0.6399128375485581,\n",
       "   1.6629348712834995,\n",
       "   1.6629348712834995,\n",
       "   1.1094573833424328],\n",
       "  [0.0, 1.1447770833061013, 1.1447770833061013, 0.0],\n",
       "  [0.0, 0.9684711139993583, 0.9684711139993583, 0.0],\n",
       "  [0.0, 1.4880554146508462, 1.4880554146508462, 0.9684711139993583],\n",
       "  [1.1447770833061013,\n",
       "   1.9433131891474569,\n",
       "   1.9433131891474569,\n",
       "   1.4880554146508462],\n",
       "  [0.0, 2.8483346891498713, 2.8483346891498713, 1.9433131891474569],\n",
       "  [1.6629348712834995, 3.24808758894885, 3.24808758894885, 2.8483346891498713],\n",
       "  [0.0, 0.9372334208107103, 0.9372334208107103, 0.0],\n",
       "  [0.0, 0.5595406321781606, 0.5595406321781606, 0.0],\n",
       "  [0.0, 0.8211853986551017, 0.8211853986551017, 0.5595406321781606],\n",
       "  [0.0, 0.9842066870944303, 0.9842066870944303, 0.8211853986551017],\n",
       "  [0.0, 0.6133970462986226, 0.6133970462986226, 0.0],\n",
       "  [0.0, 0.7082209756458508, 0.7082209756458508, 0.0],\n",
       "  [0.0, 0.9857514193799762, 0.9857514193799762, 0.7082209756458508],\n",
       "  [0.6133970462986226,\n",
       "   1.3039995523788095,\n",
       "   1.3039995523788095,\n",
       "   0.9857514193799762],\n",
       "  [0.9842066870944303,\n",
       "   1.6077082232725652,\n",
       "   1.6077082232725652,\n",
       "   1.3039995523788095],\n",
       "  [0.9372334208107103,\n",
       "   2.6594834879401557,\n",
       "   2.6594834879401557,\n",
       "   1.6077082232725652],\n",
       "  [0.0, 1.093439506132245, 1.093439506132245, 0.0],\n",
       "  [0.0, 1.2036623893052247, 1.2036623893052247, 0.0],\n",
       "  [1.093439506132245,\n",
       "   2.076866363564912,\n",
       "   2.076866363564912,\n",
       "   1.2036623893052247],\n",
       "  [0.0, 0.7503504400564744, 0.7503504400564744, 0.0],\n",
       "  [0.0, 0.4231314742457056, 0.4231314742457056, 0.0],\n",
       "  [0.0, 0.5588057361489407, 0.5588057361489407, 0.4231314742457056],\n",
       "  [0.0, 0.7603969640521341, 0.7603969640521341, 0.5588057361489407],\n",
       "  [0.7503504400564744,\n",
       "   1.1370019270747609,\n",
       "   1.1370019270747609,\n",
       "   0.7603969640521341],\n",
       "  [0.0, 0.6513795822872052, 0.6513795822872052, 0.0],\n",
       "  [0.0, 0.8536484708695792, 0.8536484708695792, 0.6513795822872052],\n",
       "  [0.0, 1.687721966091112, 1.687721966091112, 0.8536484708695792],\n",
       "  [1.1370019270747609,\n",
       "   2.3175864112453284,\n",
       "   2.3175864112453284,\n",
       "   1.687721966091112],\n",
       "  [2.076866363564912,\n",
       "   3.0246019976139826,\n",
       "   3.0246019976139826,\n",
       "   2.3175864112453284],\n",
       "  [2.6594834879401557,\n",
       "   3.6252405584909075,\n",
       "   3.6252405584909075,\n",
       "   3.0246019976139826],\n",
       "  [0.0, 0.7944524416285782, 0.7944524416285782, 0.0],\n",
       "  [0.0, 0.27051092037444896, 0.27051092037444896, 0.0],\n",
       "  [0.0, 0.6837059365074781, 0.6837059365074781, 0.27051092037444896],\n",
       "  [0.0, 1.0994304996360673, 1.0994304996360673, 0.6837059365074781],\n",
       "  [0.7944524416285782,\n",
       "   2.0098876545797943,\n",
       "   2.0098876545797943,\n",
       "   1.0994304996360673],\n",
       "  [0.0, 0.6045623597628655, 0.6045623597628655, 0.0],\n",
       "  [0.0, 0.9521633379045829, 0.9521633379045829, 0.6045623597628655],\n",
       "  [0.0, 1.093760274991516, 1.093760274991516, 0.9521633379045829],\n",
       "  [0.0, 1.3568825389902754, 1.3568825389902754, 1.093760274991516],\n",
       "  [0.0, 2.1944552167024667, 2.1944552167024667, 1.3568825389902754],\n",
       "  [2.0098876545797943,\n",
       "   4.312120569683006,\n",
       "   4.312120569683006,\n",
       "   2.1944552167024667],\n",
       "  [3.6252405584909075,\n",
       "   5.296195565210035,\n",
       "   5.296195565210035,\n",
       "   4.312120569683006],\n",
       "  [3.24808758894885, 7.057870152420797, 7.057870152420797, 5.296195565210035],\n",
       "  [6.522702328072142, 9.977944923496304, 9.977944923496304, 7.057870152420797],\n",
       "  [0.0, 1.7200080484476945, 1.7200080484476945, 0.0],\n",
       "  [0.0, 1.9502350337783905, 1.9502350337783905, 1.7200080484476945],\n",
       "  [0.0, 2.4805936039044747, 2.4805936039044747, 1.9502350337783905],\n",
       "  [0.0, 2.2826175962351973, 2.2826175962351973, 0.0],\n",
       "  [0.0, 1.1250252831337682, 1.1250252831337682, 0.0],\n",
       "  [0.0, 1.7779685076221667, 1.7779685076221667, 1.1250252831337682],\n",
       "  [0.0, 2.309141049127036, 2.309141049127036, 1.7779685076221667],\n",
       "  [2.2826175962351973,\n",
       "   4.870873450282402,\n",
       "   4.870873450282402,\n",
       "   2.309141049127036],\n",
       "  [2.4805936039044747,\n",
       "   6.132175701912765,\n",
       "   6.132175701912765,\n",
       "   4.870873450282402],\n",
       "  [0.0, 1.201669257283303, 1.201669257283303, 0.0],\n",
       "  [0.0, 1.9052237411520465, 1.9052237411520465, 1.201669257283303],\n",
       "  [0.0, 2.168397621764117, 2.168397621764117, 0.0],\n",
       "  [0.0, 1.1094933759755705, 1.1094933759755705, 0.0],\n",
       "  [0.0, 1.5228330894455941, 1.5228330894455941, 1.1094933759755705],\n",
       "  [0.0, 0.9712008499235915, 0.9712008499235915, 0.0],\n",
       "  [0.0, 0.7050295027674597, 0.7050295027674597, 0.0],\n",
       "  [0.0, 0.8205910588689245, 0.8205910588689245, 0.0],\n",
       "  [0.0, 1.0107715729246156, 1.0107715729246156, 0.8205910588689245],\n",
       "  [0.7050295027674597,\n",
       "   1.4805875845907477,\n",
       "   1.4805875845907477,\n",
       "   1.0107715729246156],\n",
       "  [0.9712008499235915,\n",
       "   1.7012316765608702,\n",
       "   1.7012316765608702,\n",
       "   1.4805875845907477],\n",
       "  [1.5228330894455941,\n",
       "   2.7927200737769104,\n",
       "   2.7927200737769104,\n",
       "   1.7012316765608702],\n",
       "  [2.168397621764117,\n",
       "   3.304954590552942,\n",
       "   3.304954590552942,\n",
       "   2.7927200737769104],\n",
       "  [1.9052237411520465,\n",
       "   3.678629146505107,\n",
       "   3.678629146505107,\n",
       "   3.304954590552942],\n",
       "  [0.0, 0.7256048631599274, 0.7256048631599274, 0.0],\n",
       "  [0.0, 0.7612755222127507, 0.7612755222127507, 0.7256048631599274],\n",
       "  [0.0, 1.1155620502127055, 1.1155620502127055, 0.7612755222127507],\n",
       "  [0.0, 1.3005955000053562, 1.3005955000053562, 1.1155620502127055],\n",
       "  [0.0, 0.753686515915792, 0.753686515915792, 0.0],\n",
       "  [0.0, 0.7489907552947117, 0.7489907552947117, 0.0],\n",
       "  [0.0, 0.9437733010563315, 0.9437733010563315, 0.7489907552947117],\n",
       "  [0.753686515915792,\n",
       "   1.6849815670081632,\n",
       "   1.6849815670081632,\n",
       "   0.9437733010563315],\n",
       "  [1.3005955000053562,\n",
       "   2.2100572907104072,\n",
       "   2.2100572907104072,\n",
       "   1.6849815670081632],\n",
       "  [0.0, 1.0854408911505764, 1.0854408911505764, 0.0],\n",
       "  [0.0, 1.1185570755292098, 1.1185570755292098, 0.0],\n",
       "  [1.0854408911505764,\n",
       "   1.5187377732283402,\n",
       "   1.5187377732283402,\n",
       "   1.1185570755292098],\n",
       "  [0.0, 0.8152053859676581, 0.8152053859676581, 0.0],\n",
       "  [0.0, 1.5790437700668651, 1.5790437700668651, 0.8152053859676581],\n",
       "  [1.5187377732283402,\n",
       "   2.396138506303146,\n",
       "   2.396138506303146,\n",
       "   1.5790437700668651],\n",
       "  [2.2100572907104072,\n",
       "   4.202479010962439,\n",
       "   4.202479010962439,\n",
       "   2.396138506303146],\n",
       "  [3.678629146505107, 6.748602817668834, 6.748602817668834, 4.202479010962439],\n",
       "  [6.132175701912765, 8.970900359233866, 8.970900359233866, 6.748602817668834],\n",
       "  [0.0, 12.620331249136946, 12.620331249136946, 8.970900359233866],\n",
       "  [9.977944923496304,\n",
       "   15.294738458270764,\n",
       "   15.294738458270764,\n",
       "   12.620331249136946],\n",
       "  [6.072723209366381, 20.7270249364828, 20.7270249364828, 15.294738458270764],\n",
       "  [16.289646261006837,\n",
       "   26.816101594339788,\n",
       "   26.816101594339788,\n",
       "   20.7270249364828]],\n",
       " 'ivl': ['Luxembourg',\n",
       "  'Malta',\n",
       "  'Singapore',\n",
       "  'Qatar',\n",
       "  'Oman',\n",
       "  'Saudi Arabia',\n",
       "  'Bahrain',\n",
       "  'Libya',\n",
       "  'United Arab Emirates',\n",
       "  'Brunei',\n",
       "  'Kuwait',\n",
       "  'Ireland',\n",
       "  'Belgium',\n",
       "  'Netherlands',\n",
       "  'Norway',\n",
       "  'Switzerland',\n",
       "  'United States',\n",
       "  'Iceland',\n",
       "  'Finland',\n",
       "  'Sweden',\n",
       "  'Denmark',\n",
       "  'Austria',\n",
       "  'Germany',\n",
       "  'Canada',\n",
       "  'France',\n",
       "  'Australia',\n",
       "  'Japan',\n",
       "  'Israel',\n",
       "  'Greece',\n",
       "  'Portugal',\n",
       "  'Italy',\n",
       "  'Spain',\n",
       "  'New Zealand',\n",
       "  'United Kingdom',\n",
       "  'Haiti',\n",
       "  'Sierra Leone',\n",
       "  'Rwanda',\n",
       "  'Burundi',\n",
       "  'Afghanistan',\n",
       "  'Uganda',\n",
       "  'Burkina Faso',\n",
       "  'Guinea-Bissau',\n",
       "  'Kenya',\n",
       "  'Madagascar',\n",
       "  'Comoros',\n",
       "  'Gambia',\n",
       "  'Senegal',\n",
       "  'Togo',\n",
       "  'Benin',\n",
       "  'Cameroon',\n",
       "  'Congo, Dem. Rep.',\n",
       "  'Tanzania',\n",
       "  'Malawi',\n",
       "  'Zambia',\n",
       "  'Guinea',\n",
       "  \"Cote d'Ivoire\",\n",
       "  'Mozambique',\n",
       "  'Central African Republic',\n",
       "  'Niger',\n",
       "  'Chad',\n",
       "  'Mali',\n",
       "  'Lesotho',\n",
       "  'Micronesia, Fed. Sts.',\n",
       "  'Kiribati',\n",
       "  'Liberia',\n",
       "  'South Africa',\n",
       "  'Botswana',\n",
       "  'Namibia',\n",
       "  'Solomon Islands',\n",
       "  'Vanuatu',\n",
       "  'Cambodia',\n",
       "  'Fiji',\n",
       "  'Bhutan',\n",
       "  'Guyana',\n",
       "  'Kyrgyz Republic',\n",
       "  'Czech Republic',\n",
       "  'Slovenia',\n",
       "  'Estonia',\n",
       "  'Lithuania',\n",
       "  'Hungary',\n",
       "  'Slovak Republic',\n",
       "  'Seychelles',\n",
       "  'Malaysia',\n",
       "  'Thailand',\n",
       "  'Vietnam',\n",
       "  'Maldives',\n",
       "  'Panama',\n",
       "  'Samoa',\n",
       "  'Tonga',\n",
       "  'Romania',\n",
       "  'Grenada',\n",
       "  'Albania',\n",
       "  'El Salvador',\n",
       "  'Armenia',\n",
       "  'Jamaica',\n",
       "  'Morocco',\n",
       "  'Cape Verde',\n",
       "  'St. Vincent and the Grenadines',\n",
       "  'Belarus',\n",
       "  'Ukraine',\n",
       "  'Azerbaijan',\n",
       "  'Suriname',\n",
       "  'Antigua and Barbuda',\n",
       "  'Lebanon',\n",
       "  'Macedonia, FYR',\n",
       "  'Mauritius',\n",
       "  'Bulgaria',\n",
       "  'Latvia',\n",
       "  'Jordan',\n",
       "  'Belize',\n",
       "  'Paraguay',\n",
       "  'Tunisia',\n",
       "  'Cyprus',\n",
       "  'South Korea',\n",
       "  'Bahamas',\n",
       "  'Barbados',\n",
       "  'Croatia',\n",
       "  'Poland',\n",
       "  'Moldova',\n",
       "  'Costa Rica',\n",
       "  'Montenegro',\n",
       "  'Georgia',\n",
       "  'Bosnia and Herzegovina',\n",
       "  'Serbia',\n",
       "  'Nigeria',\n",
       "  'Equatorial Guinea',\n",
       "  'Congo, Rep.',\n",
       "  'Angola',\n",
       "  'Mauritania',\n",
       "  'Mongolia',\n",
       "  'Venezuela',\n",
       "  'Timor-Leste',\n",
       "  'Iraq',\n",
       "  'Sudan',\n",
       "  'Yemen',\n",
       "  'Myanmar',\n",
       "  'Eritrea',\n",
       "  'Pakistan',\n",
       "  'Gabon',\n",
       "  'Turkmenistan',\n",
       "  'Tajikistan',\n",
       "  'Ghana',\n",
       "  'Lao',\n",
       "  'Nepal',\n",
       "  'Uzbekistan',\n",
       "  'Bangladesh',\n",
       "  'India',\n",
       "  'Egypt',\n",
       "  'Bolivia',\n",
       "  'Philippines',\n",
       "  'Brazil',\n",
       "  'Chile',\n",
       "  'Colombia',\n",
       "  'Turkey',\n",
       "  'Uruguay',\n",
       "  'China',\n",
       "  'Peru',\n",
       "  'Ecuador',\n",
       "  'Dominican Republic',\n",
       "  'Guatemala',\n",
       "  'Indonesia',\n",
       "  'Sri Lanka',\n",
       "  'Algeria',\n",
       "  'Kazakhstan',\n",
       "  'Argentina',\n",
       "  'Iran',\n",
       "  'Russia'],\n",
       " 'leaves': [91,\n",
       "  98,\n",
       "  133,\n",
       "  123,\n",
       "  115,\n",
       "  128,\n",
       "  11,\n",
       "  89,\n",
       "  157,\n",
       "  23,\n",
       "  82,\n",
       "  73,\n",
       "  15,\n",
       "  110,\n",
       "  114,\n",
       "  145,\n",
       "  159,\n",
       "  68,\n",
       "  53,\n",
       "  144,\n",
       "  44,\n",
       "  8,\n",
       "  58,\n",
       "  29,\n",
       "  54,\n",
       "  7,\n",
       "  77,\n",
       "  74,\n",
       "  60,\n",
       "  122,\n",
       "  75,\n",
       "  139,\n",
       "  111,\n",
       "  158,\n",
       "  66,\n",
       "  132,\n",
       "  126,\n",
       "  26,\n",
       "  0,\n",
       "  155,\n",
       "  25,\n",
       "  64,\n",
       "  80,\n",
       "  93,\n",
       "  36,\n",
       "  56,\n",
       "  129,\n",
       "  150,\n",
       "  17,\n",
       "  28,\n",
       "  37,\n",
       "  147,\n",
       "  94,\n",
       "  166,\n",
       "  63,\n",
       "  40,\n",
       "  106,\n",
       "  31,\n",
       "  112,\n",
       "  32,\n",
       "  97,\n",
       "  87,\n",
       "  101,\n",
       "  81,\n",
       "  88,\n",
       "  137,\n",
       "  21,\n",
       "  108,\n",
       "  136,\n",
       "  162,\n",
       "  27,\n",
       "  52,\n",
       "  18,\n",
       "  65,\n",
       "  83,\n",
       "  43,\n",
       "  135,\n",
       "  51,\n",
       "  90,\n",
       "  67,\n",
       "  134,\n",
       "  131,\n",
       "  95,\n",
       "  148,\n",
       "  164,\n",
       "  96,\n",
       "  117,\n",
       "  127,\n",
       "  151,\n",
       "  124,\n",
       "  61,\n",
       "  1,\n",
       "  48,\n",
       "  6,\n",
       "  76,\n",
       "  105,\n",
       "  30,\n",
       "  141,\n",
       "  14,\n",
       "  156,\n",
       "  9,\n",
       "  143,\n",
       "  4,\n",
       "  86,\n",
       "  92,\n",
       "  100,\n",
       "  24,\n",
       "  85,\n",
       "  78,\n",
       "  16,\n",
       "  118,\n",
       "  152,\n",
       "  42,\n",
       "  138,\n",
       "  10,\n",
       "  13,\n",
       "  41,\n",
       "  121,\n",
       "  102,\n",
       "  39,\n",
       "  104,\n",
       "  57,\n",
       "  20,\n",
       "  130,\n",
       "  113,\n",
       "  49,\n",
       "  38,\n",
       "  3,\n",
       "  99,\n",
       "  103,\n",
       "  163,\n",
       "  149,\n",
       "  72,\n",
       "  142,\n",
       "  165,\n",
       "  107,\n",
       "  50,\n",
       "  116,\n",
       "  55,\n",
       "  154,\n",
       "  146,\n",
       "  59,\n",
       "  84,\n",
       "  109,\n",
       "  161,\n",
       "  12,\n",
       "  69,\n",
       "  47,\n",
       "  19,\n",
       "  120,\n",
       "  22,\n",
       "  33,\n",
       "  35,\n",
       "  153,\n",
       "  160,\n",
       "  34,\n",
       "  119,\n",
       "  46,\n",
       "  45,\n",
       "  62,\n",
       "  70,\n",
       "  140,\n",
       "  2,\n",
       "  79,\n",
       "  5,\n",
       "  71,\n",
       "  125],\n",
       " 'color_list': ['C1',\n",
       "  'C1',\n",
       "  'C1',\n",
       "  'C1',\n",
       "  'C1',\n",
       "  'C1',\n",
       "  'C1',\n",
       "  'C1',\n",
       "  'C1',\n",
       "  'C1',\n",
       "  'C1',\n",
       "  'C1',\n",
       "  'C1',\n",
       "  'C1',\n",
       "  'C1',\n",
       "  'C1',\n",
       "  'C1',\n",
       "  'C1',\n",
       "  'C1',\n",
       "  'C1',\n",
       "  'C1',\n",
       "  'C1',\n",
       "  'C1',\n",
       "  'C1',\n",
       "  'C1',\n",
       "  'C1',\n",
       "  'C1',\n",
       "  'C1',\n",
       "  'C1',\n",
       "  'C1',\n",
       "  'C1',\n",
       "  'C1',\n",
       "  'C1',\n",
       "  'C2',\n",
       "  'C2',\n",
       "  'C2',\n",
       "  'C2',\n",
       "  'C2',\n",
       "  'C2',\n",
       "  'C2',\n",
       "  'C2',\n",
       "  'C2',\n",
       "  'C2',\n",
       "  'C2',\n",
       "  'C2',\n",
       "  'C2',\n",
       "  'C2',\n",
       "  'C2',\n",
       "  'C2',\n",
       "  'C2',\n",
       "  'C2',\n",
       "  'C2',\n",
       "  'C2',\n",
       "  'C2',\n",
       "  'C2',\n",
       "  'C2',\n",
       "  'C2',\n",
       "  'C2',\n",
       "  'C2',\n",
       "  'C3',\n",
       "  'C3',\n",
       "  'C3',\n",
       "  'C3',\n",
       "  'C3',\n",
       "  'C3',\n",
       "  'C3',\n",
       "  'C3',\n",
       "  'C3',\n",
       "  'C3',\n",
       "  'C3',\n",
       "  'C3',\n",
       "  'C3',\n",
       "  'C3',\n",
       "  'C3',\n",
       "  'C3',\n",
       "  'C3',\n",
       "  'C3',\n",
       "  'C3',\n",
       "  'C3',\n",
       "  'C3',\n",
       "  'C3',\n",
       "  'C3',\n",
       "  'C3',\n",
       "  'C3',\n",
       "  'C3',\n",
       "  'C3',\n",
       "  'C3',\n",
       "  'C3',\n",
       "  'C3',\n",
       "  'C3',\n",
       "  'C3',\n",
       "  'C3',\n",
       "  'C3',\n",
       "  'C3',\n",
       "  'C3',\n",
       "  'C3',\n",
       "  'C3',\n",
       "  'C3',\n",
       "  'C3',\n",
       "  'C3',\n",
       "  'C3',\n",
       "  'C3',\n",
       "  'C3',\n",
       "  'C3',\n",
       "  'C3',\n",
       "  'C3',\n",
       "  'C3',\n",
       "  'C3',\n",
       "  'C3',\n",
       "  'C3',\n",
       "  'C3',\n",
       "  'C3',\n",
       "  'C3',\n",
       "  'C3',\n",
       "  'C3',\n",
       "  'C3',\n",
       "  'C3',\n",
       "  'C3',\n",
       "  'C3',\n",
       "  'C3',\n",
       "  'C3',\n",
       "  'C3',\n",
       "  'C3',\n",
       "  'C3',\n",
       "  'C3',\n",
       "  'C3',\n",
       "  'C3',\n",
       "  'C3',\n",
       "  'C3',\n",
       "  'C3',\n",
       "  'C3',\n",
       "  'C3',\n",
       "  'C3',\n",
       "  'C3',\n",
       "  'C3',\n",
       "  'C3',\n",
       "  'C3',\n",
       "  'C3',\n",
       "  'C3',\n",
       "  'C3',\n",
       "  'C3',\n",
       "  'C3',\n",
       "  'C3',\n",
       "  'C3',\n",
       "  'C3',\n",
       "  'C3',\n",
       "  'C3',\n",
       "  'C3',\n",
       "  'C3',\n",
       "  'C3',\n",
       "  'C3',\n",
       "  'C3',\n",
       "  'C3',\n",
       "  'C3',\n",
       "  'C3',\n",
       "  'C3',\n",
       "  'C3',\n",
       "  'C3',\n",
       "  'C3',\n",
       "  'C3',\n",
       "  'C3',\n",
       "  'C3',\n",
       "  'C3',\n",
       "  'C3',\n",
       "  'C0',\n",
       "  'C0'],\n",
       " 'leaves_color_list': ['C1',\n",
       "  'C1',\n",
       "  'C1',\n",
       "  'C1',\n",
       "  'C1',\n",
       "  'C1',\n",
       "  'C1',\n",
       "  'C1',\n",
       "  'C1',\n",
       "  'C1',\n",
       "  'C1',\n",
       "  'C1',\n",
       "  'C1',\n",
       "  'C1',\n",
       "  'C1',\n",
       "  'C1',\n",
       "  'C1',\n",
       "  'C1',\n",
       "  'C1',\n",
       "  'C1',\n",
       "  'C1',\n",
       "  'C1',\n",
       "  'C1',\n",
       "  'C1',\n",
       "  'C1',\n",
       "  'C1',\n",
       "  'C1',\n",
       "  'C1',\n",
       "  'C1',\n",
       "  'C1',\n",
       "  'C1',\n",
       "  'C1',\n",
       "  'C1',\n",
       "  'C1',\n",
       "  'C2',\n",
       "  'C2',\n",
       "  'C2',\n",
       "  'C2',\n",
       "  'C2',\n",
       "  'C2',\n",
       "  'C2',\n",
       "  'C2',\n",
       "  'C2',\n",
       "  'C2',\n",
       "  'C2',\n",
       "  'C2',\n",
       "  'C2',\n",
       "  'C2',\n",
       "  'C2',\n",
       "  'C2',\n",
       "  'C2',\n",
       "  'C2',\n",
       "  'C2',\n",
       "  'C2',\n",
       "  'C2',\n",
       "  'C2',\n",
       "  'C2',\n",
       "  'C2',\n",
       "  'C2',\n",
       "  'C2',\n",
       "  'C2',\n",
       "  'C3',\n",
       "  'C3',\n",
       "  'C3',\n",
       "  'C3',\n",
       "  'C3',\n",
       "  'C3',\n",
       "  'C3',\n",
       "  'C3',\n",
       "  'C3',\n",
       "  'C3',\n",
       "  'C3',\n",
       "  'C3',\n",
       "  'C3',\n",
       "  'C3',\n",
       "  'C3',\n",
       "  'C3',\n",
       "  'C3',\n",
       "  'C3',\n",
       "  'C3',\n",
       "  'C3',\n",
       "  'C3',\n",
       "  'C3',\n",
       "  'C3',\n",
       "  'C3',\n",
       "  'C3',\n",
       "  'C3',\n",
       "  'C3',\n",
       "  'C3',\n",
       "  'C3',\n",
       "  'C3',\n",
       "  'C3',\n",
       "  'C3',\n",
       "  'C3',\n",
       "  'C3',\n",
       "  'C3',\n",
       "  'C3',\n",
       "  'C3',\n",
       "  'C3',\n",
       "  'C3',\n",
       "  'C3',\n",
       "  'C3',\n",
       "  'C3',\n",
       "  'C3',\n",
       "  'C3',\n",
       "  'C3',\n",
       "  'C3',\n",
       "  'C3',\n",
       "  'C3',\n",
       "  'C3',\n",
       "  'C3',\n",
       "  'C3',\n",
       "  'C3',\n",
       "  'C3',\n",
       "  'C3',\n",
       "  'C3',\n",
       "  'C3',\n",
       "  'C3',\n",
       "  'C3',\n",
       "  'C3',\n",
       "  'C3',\n",
       "  'C3',\n",
       "  'C3',\n",
       "  'C3',\n",
       "  'C3',\n",
       "  'C3',\n",
       "  'C3',\n",
       "  'C3',\n",
       "  'C3',\n",
       "  'C3',\n",
       "  'C3',\n",
       "  'C3',\n",
       "  'C3',\n",
       "  'C3',\n",
       "  'C3',\n",
       "  'C3',\n",
       "  'C3',\n",
       "  'C3',\n",
       "  'C3',\n",
       "  'C3',\n",
       "  'C3',\n",
       "  'C3',\n",
       "  'C3',\n",
       "  'C3',\n",
       "  'C3',\n",
       "  'C3',\n",
       "  'C3',\n",
       "  'C3',\n",
       "  'C3',\n",
       "  'C3',\n",
       "  'C3',\n",
       "  'C3',\n",
       "  'C3',\n",
       "  'C3',\n",
       "  'C3',\n",
       "  'C3',\n",
       "  'C3',\n",
       "  'C3',\n",
       "  'C3',\n",
       "  'C3',\n",
       "  'C3',\n",
       "  'C3',\n",
       "  'C3',\n",
       "  'C3',\n",
       "  'C3',\n",
       "  'C3',\n",
       "  'C3']}"
      ]
     },
     "execution_count": 14,
     "metadata": {},
     "output_type": "execute_result"
    },
    {
     "data": {
      "image/png": "[encoded data removed]",
      "text/plain": [
       "<Figure size 2000x700 with 1 Axes>"
      ]
     },
     "metadata": {},
     "output_type": "display_data"
    }
   ],
   "source": [
    "from scipy.cluster.hierarchy import linkage, dendrogram\n",
    "\n",
    "# Standardize the numeric features (centering and scaling)\n",
    "Z = linkage(X_scaled, method = \"ward\")  # capital Z is normal for the distance/linkage matrix\n",
    "\n",
    "# grabbing each country individually\n",
    "country = data[\"country\"].to_list()\n",
    "plt.figure(figsize = (20,7))\n",
    "dendrogram(Z, labels = country)"
   ]
  },
  {
   "cell_type": "markdown",
   "metadata": {
    "id": "AHspX8ObaECi"
   },
   "source": [
    "### Part 6: Choosing k & Assigning Clusters\n",
    "After visually inspecting the dendrogram we select **k=3** (feel free to experiment).  \n",
    "Agglomerative clustering with the same linkage method produces integer labels we can append to the dataframe.  \n"
   ]
  },
  {
   "cell_type": "code",
   "execution_count": 35,
   "metadata": {
    "id": "3D1i01ZjH7E2"
   },
   "outputs": [
    {
     "data": {
      "text/html": [
       "<div>\n",
       "<style scoped>\n",
       "    .dataframe tbody tr th:only-of-type {\n",
       "        vertical-align: middle;\n",
       "    }\n",
       "\n",
       "    .dataframe tbody tr th {\n",
       "        vertical-align: top;\n",
       "    }\n",
       "\n",
       "    .dataframe thead th {\n",
       "        text-align: right;\n",
       "    }\n",
       "</style>\n",
       "<table border=\"1\" class=\"dataframe\">\n",
       "  <thead>\n",
       "    <tr style=\"text-align: right;\">\n",
       "      <th></th>\n",
       "      <th>country</th>\n",
       "      <th>child_mort</th>\n",
       "      <th>exports</th>\n",
       "      <th>health</th>\n",
       "      <th>imports</th>\n",
       "      <th>income</th>\n",
       "      <th>inflation</th>\n",
       "      <th>life_expec</th>\n",
       "      <th>total_fer</th>\n",
       "      <th>gdpp</th>\n",
       "      <th>Cluster</th>\n",
       "    </tr>\n",
       "  </thead>\n",
       "  <tbody>\n",
       "    <tr>\n",
       "      <th>0</th>\n",
       "      <td>Afghanistan</td>\n",
       "      <td>90.2</td>\n",
       "      <td>10.0</td>\n",
       "      <td>7.58</td>\n",
       "      <td>44.9</td>\n",
       "      <td>1610</td>\n",
       "      <td>9.44</td>\n",
       "      <td>56.2</td>\n",
       "      <td>5.82</td>\n",
       "      <td>553</td>\n",
       "      <td>2</td>\n",
       "    </tr>\n",
       "    <tr>\n",
       "      <th>1</th>\n",
       "      <td>Albania</td>\n",
       "      <td>16.6</td>\n",
       "      <td>28.0</td>\n",
       "      <td>6.55</td>\n",
       "      <td>48.6</td>\n",
       "      <td>9930</td>\n",
       "      <td>4.49</td>\n",
       "      <td>76.3</td>\n",
       "      <td>1.65</td>\n",
       "      <td>4090</td>\n",
       "      <td>0</td>\n",
       "    </tr>\n",
       "    <tr>\n",
       "      <th>2</th>\n",
       "      <td>Algeria</td>\n",
       "      <td>27.3</td>\n",
       "      <td>38.4</td>\n",
       "      <td>4.17</td>\n",
       "      <td>31.4</td>\n",
       "      <td>12900</td>\n",
       "      <td>16.10</td>\n",
       "      <td>76.5</td>\n",
       "      <td>2.89</td>\n",
       "      <td>4460</td>\n",
       "      <td>0</td>\n",
       "    </tr>\n",
       "    <tr>\n",
       "      <th>3</th>\n",
       "      <td>Angola</td>\n",
       "      <td>119.0</td>\n",
       "      <td>62.3</td>\n",
       "      <td>2.85</td>\n",
       "      <td>42.9</td>\n",
       "      <td>5900</td>\n",
       "      <td>22.40</td>\n",
       "      <td>60.1</td>\n",
       "      <td>6.16</td>\n",
       "      <td>3530</td>\n",
       "      <td>0</td>\n",
       "    </tr>\n",
       "    <tr>\n",
       "      <th>4</th>\n",
       "      <td>Antigua and Barbuda</td>\n",
       "      <td>10.3</td>\n",
       "      <td>45.5</td>\n",
       "      <td>6.03</td>\n",
       "      <td>58.9</td>\n",
       "      <td>19100</td>\n",
       "      <td>1.44</td>\n",
       "      <td>76.8</td>\n",
       "      <td>2.13</td>\n",
       "      <td>12200</td>\n",
       "      <td>0</td>\n",
       "    </tr>\n",
       "    <tr>\n",
       "      <th>...</th>\n",
       "      <td>...</td>\n",
       "      <td>...</td>\n",
       "      <td>...</td>\n",
       "      <td>...</td>\n",
       "      <td>...</td>\n",
       "      <td>...</td>\n",
       "      <td>...</td>\n",
       "      <td>...</td>\n",
       "      <td>...</td>\n",
       "      <td>...</td>\n",
       "      <td>...</td>\n",
       "    </tr>\n",
       "    <tr>\n",
       "      <th>162</th>\n",
       "      <td>Vanuatu</td>\n",
       "      <td>29.2</td>\n",
       "      <td>46.6</td>\n",
       "      <td>5.25</td>\n",
       "      <td>52.7</td>\n",
       "      <td>2950</td>\n",
       "      <td>2.62</td>\n",
       "      <td>63.0</td>\n",
       "      <td>3.50</td>\n",
       "      <td>2970</td>\n",
       "      <td>0</td>\n",
       "    </tr>\n",
       "    <tr>\n",
       "      <th>163</th>\n",
       "      <td>Venezuela</td>\n",
       "      <td>17.1</td>\n",
       "      <td>28.5</td>\n",
       "      <td>4.91</td>\n",
       "      <td>17.6</td>\n",
       "      <td>16500</td>\n",
       "      <td>45.90</td>\n",
       "      <td>75.4</td>\n",
       "      <td>2.47</td>\n",
       "      <td>13500</td>\n",
       "      <td>0</td>\n",
       "    </tr>\n",
       "    <tr>\n",
       "      <th>164</th>\n",
       "      <td>Vietnam</td>\n",
       "      <td>23.3</td>\n",
       "      <td>72.0</td>\n",
       "      <td>6.84</td>\n",
       "      <td>80.2</td>\n",
       "      <td>4490</td>\n",
       "      <td>12.10</td>\n",
       "      <td>73.1</td>\n",
       "      <td>1.95</td>\n",
       "      <td>1310</td>\n",
       "      <td>0</td>\n",
       "    </tr>\n",
       "    <tr>\n",
       "      <th>165</th>\n",
       "      <td>Yemen</td>\n",
       "      <td>56.3</td>\n",
       "      <td>30.0</td>\n",
       "      <td>5.18</td>\n",
       "      <td>34.4</td>\n",
       "      <td>4480</td>\n",
       "      <td>23.60</td>\n",
       "      <td>67.5</td>\n",
       "      <td>4.67</td>\n",
       "      <td>1310</td>\n",
       "      <td>0</td>\n",
       "    </tr>\n",
       "    <tr>\n",
       "      <th>166</th>\n",
       "      <td>Zambia</td>\n",
       "      <td>83.1</td>\n",
       "      <td>37.0</td>\n",
       "      <td>5.89</td>\n",
       "      <td>30.9</td>\n",
       "      <td>3280</td>\n",
       "      <td>14.00</td>\n",
       "      <td>52.0</td>\n",
       "      <td>5.40</td>\n",
       "      <td>1460</td>\n",
       "      <td>2</td>\n",
       "    </tr>\n",
       "  </tbody>\n",
       "</table>\n",
       "<p>167 rows × 11 columns</p>\n",
       "</div>"
      ],
      "text/plain": [
       "                 country  child_mort  exports  health  imports  income  \\\n",
       "0            Afghanistan        90.2     10.0    7.58     44.9    1610   \n",
       "1                Albania        16.6     28.0    6.55     48.6    9930   \n",
       "2                Algeria        27.3     38.4    4.17     31.4   12900   \n",
       "3                 Angola       119.0     62.3    2.85     42.9    5900   \n",
       "4    Antigua and Barbuda        10.3     45.5    6.03     58.9   19100   \n",
       "..                   ...         ...      ...     ...      ...     ...   \n",
       "162              Vanuatu        29.2     46.6    5.25     52.7    2950   \n",
       "163            Venezuela        17.1     28.5    4.91     17.6   16500   \n",
       "164              Vietnam        23.3     72.0    6.84     80.2    4490   \n",
       "165                Yemen        56.3     30.0    5.18     34.4    4480   \n",
       "166               Zambia        83.1     37.0    5.89     30.9    3280   \n",
       "\n",
       "     inflation  life_expec  total_fer   gdpp  Cluster  \n",
       "0         9.44        56.2       5.82    553        2  \n",
       "1         4.49        76.3       1.65   4090        0  \n",
       "2        16.10        76.5       2.89   4460        0  \n",
       "3        22.40        60.1       6.16   3530        0  \n",
       "4         1.44        76.8       2.13  12200        0  \n",
       "..         ...         ...        ...    ...      ...  \n",
       "162       2.62        63.0       3.50   2970        0  \n",
       "163      45.90        75.4       2.47  13500        0  \n",
       "164      12.10        73.1       1.95   1310        0  \n",
       "165      23.60        67.5       4.67   1310        0  \n",
       "166      14.00        52.0       5.40   1460        2  \n",
       "\n",
       "[167 rows x 11 columns]"
      ]
     },
     "execution_count": 35,
     "metadata": {},
     "output_type": "execute_result"
    }
   ],
   "source": [
    "from sklearn.cluster import AgglomerativeClustering\n",
    "\n",
    "# Select k and assigning cluster label with fit_predict()\n",
    "k = 4 # four different k's\n",
    "agg = AgglomerativeClustering(n_clusters = k, linkage = \"ward\")\n",
    "data[\"Cluster\"] = agg.fit_predict(X_scaled)\n",
    "data # now, each country gets a label that shows what cluster it's in\n",
    "# make cluster labels"
   ]
  },
  {
   "cell_type": "code",
   "execution_count": 36,
   "metadata": {},
   "outputs": [
    {
     "data": {
      "text/plain": [
       "Cluster\n",
       "0    106\n",
       "1     31\n",
       "2     27\n",
       "3      3\n",
       "Name: count, dtype: int64"
      ]
     },
     "execution_count": 36,
     "metadata": {},
     "output_type": "execute_result"
    }
   ],
   "source": [
    "data[\"Cluster\"].value_counts()"
   ]
  },
  {
   "cell_type": "code",
   "execution_count": 37,
   "metadata": {},
   "outputs": [
    {
     "data": {
      "text/html": [
       "<div>\n",
       "<style scoped>\n",
       "    .dataframe tbody tr th:only-of-type {\n",
       "        vertical-align: middle;\n",
       "    }\n",
       "\n",
       "    .dataframe tbody tr th {\n",
       "        vertical-align: top;\n",
       "    }\n",
       "\n",
       "    .dataframe thead th {\n",
       "        text-align: right;\n",
       "    }\n",
       "</style>\n",
       "<table border=\"1\" class=\"dataframe\">\n",
       "  <thead>\n",
       "    <tr style=\"text-align: right;\">\n",
       "      <th></th>\n",
       "      <th>country</th>\n",
       "      <th>child_mort</th>\n",
       "      <th>exports</th>\n",
       "      <th>health</th>\n",
       "      <th>imports</th>\n",
       "      <th>income</th>\n",
       "      <th>inflation</th>\n",
       "      <th>life_expec</th>\n",
       "      <th>total_fer</th>\n",
       "      <th>gdpp</th>\n",
       "      <th>Cluster</th>\n",
       "    </tr>\n",
       "  </thead>\n",
       "  <tbody>\n",
       "    <tr>\n",
       "      <th>91</th>\n",
       "      <td>Luxembourg</td>\n",
       "      <td>2.8</td>\n",
       "      <td>175.0</td>\n",
       "      <td>7.77</td>\n",
       "      <td>142.0</td>\n",
       "      <td>91700</td>\n",
       "      <td>3.620</td>\n",
       "      <td>81.3</td>\n",
       "      <td>1.63</td>\n",
       "      <td>105000</td>\n",
       "      <td>3</td>\n",
       "    </tr>\n",
       "    <tr>\n",
       "      <th>98</th>\n",
       "      <td>Malta</td>\n",
       "      <td>6.8</td>\n",
       "      <td>153.0</td>\n",
       "      <td>8.65</td>\n",
       "      <td>154.0</td>\n",
       "      <td>28300</td>\n",
       "      <td>3.830</td>\n",
       "      <td>80.3</td>\n",
       "      <td>1.36</td>\n",
       "      <td>21100</td>\n",
       "      <td>3</td>\n",
       "    </tr>\n",
       "    <tr>\n",
       "      <th>133</th>\n",
       "      <td>Singapore</td>\n",
       "      <td>2.8</td>\n",
       "      <td>200.0</td>\n",
       "      <td>3.96</td>\n",
       "      <td>174.0</td>\n",
       "      <td>72100</td>\n",
       "      <td>-0.046</td>\n",
       "      <td>82.7</td>\n",
       "      <td>1.15</td>\n",
       "      <td>46600</td>\n",
       "      <td>3</td>\n",
       "    </tr>\n",
       "  </tbody>\n",
       "</table>\n",
       "</div>"
      ],
      "text/plain": [
       "        country  child_mort  exports  health  imports  income  inflation  \\\n",
       "91   Luxembourg         2.8    175.0    7.77    142.0   91700      3.620   \n",
       "98        Malta         6.8    153.0    8.65    154.0   28300      3.830   \n",
       "133   Singapore         2.8    200.0    3.96    174.0   72100     -0.046   \n",
       "\n",
       "     life_expec  total_fer    gdpp  Cluster  \n",
       "91         81.3       1.63  105000        3  \n",
       "98         80.3       1.36   21100        3  \n",
       "133        82.7       1.15   46600        3  "
      ]
     },
     "execution_count": 37,
     "metadata": {},
     "output_type": "execute_result"
    }
   ],
   "source": [
    "data[data[\"Cluster\"] == 3]"
   ]
  },
  {
   "cell_type": "code",
   "execution_count": 38,
   "metadata": {},
   "outputs": [
    {
     "data": {
      "text/html": [
       "<div>\n",
       "<style scoped>\n",
       "    .dataframe tbody tr th:only-of-type {\n",
       "        vertical-align: middle;\n",
       "    }\n",
       "\n",
       "    .dataframe tbody tr th {\n",
       "        vertical-align: top;\n",
       "    }\n",
       "\n",
       "    .dataframe thead th {\n",
       "        text-align: right;\n",
       "    }\n",
       "</style>\n",
       "<table border=\"1\" class=\"dataframe\">\n",
       "  <thead>\n",
       "    <tr style=\"text-align: right;\">\n",
       "      <th></th>\n",
       "      <th>country</th>\n",
       "      <th>child_mort</th>\n",
       "      <th>exports</th>\n",
       "      <th>health</th>\n",
       "      <th>imports</th>\n",
       "      <th>income</th>\n",
       "      <th>inflation</th>\n",
       "      <th>life_expec</th>\n",
       "      <th>total_fer</th>\n",
       "      <th>gdpp</th>\n",
       "      <th>Cluster</th>\n",
       "    </tr>\n",
       "  </thead>\n",
       "  <tbody>\n",
       "    <tr>\n",
       "      <th>0</th>\n",
       "      <td>Afghanistan</td>\n",
       "      <td>90.2</td>\n",
       "      <td>10.00</td>\n",
       "      <td>7.58</td>\n",
       "      <td>44.9</td>\n",
       "      <td>1610</td>\n",
       "      <td>9.440</td>\n",
       "      <td>56.2</td>\n",
       "      <td>5.82</td>\n",
       "      <td>553</td>\n",
       "      <td>2</td>\n",
       "    </tr>\n",
       "    <tr>\n",
       "      <th>17</th>\n",
       "      <td>Benin</td>\n",
       "      <td>111.0</td>\n",
       "      <td>23.80</td>\n",
       "      <td>4.10</td>\n",
       "      <td>37.2</td>\n",
       "      <td>1820</td>\n",
       "      <td>0.885</td>\n",
       "      <td>61.8</td>\n",
       "      <td>5.36</td>\n",
       "      <td>758</td>\n",
       "      <td>2</td>\n",
       "    </tr>\n",
       "    <tr>\n",
       "      <th>25</th>\n",
       "      <td>Burkina Faso</td>\n",
       "      <td>116.0</td>\n",
       "      <td>19.20</td>\n",
       "      <td>6.74</td>\n",
       "      <td>29.6</td>\n",
       "      <td>1430</td>\n",
       "      <td>6.810</td>\n",
       "      <td>57.9</td>\n",
       "      <td>5.87</td>\n",
       "      <td>575</td>\n",
       "      <td>2</td>\n",
       "    </tr>\n",
       "    <tr>\n",
       "      <th>26</th>\n",
       "      <td>Burundi</td>\n",
       "      <td>93.6</td>\n",
       "      <td>8.92</td>\n",
       "      <td>11.60</td>\n",
       "      <td>39.2</td>\n",
       "      <td>764</td>\n",
       "      <td>12.300</td>\n",
       "      <td>57.7</td>\n",
       "      <td>6.26</td>\n",
       "      <td>231</td>\n",
       "      <td>2</td>\n",
       "    </tr>\n",
       "    <tr>\n",
       "      <th>28</th>\n",
       "      <td>Cameroon</td>\n",
       "      <td>108.0</td>\n",
       "      <td>22.20</td>\n",
       "      <td>5.13</td>\n",
       "      <td>27.0</td>\n",
       "      <td>2660</td>\n",
       "      <td>1.910</td>\n",
       "      <td>57.3</td>\n",
       "      <td>5.11</td>\n",
       "      <td>1310</td>\n",
       "      <td>2</td>\n",
       "    </tr>\n",
       "    <tr>\n",
       "      <th>31</th>\n",
       "      <td>Central African Republic</td>\n",
       "      <td>149.0</td>\n",
       "      <td>11.80</td>\n",
       "      <td>3.98</td>\n",
       "      <td>26.5</td>\n",
       "      <td>888</td>\n",
       "      <td>2.010</td>\n",
       "      <td>47.5</td>\n",
       "      <td>5.21</td>\n",
       "      <td>446</td>\n",
       "      <td>2</td>\n",
       "    </tr>\n",
       "    <tr>\n",
       "      <th>32</th>\n",
       "      <td>Chad</td>\n",
       "      <td>150.0</td>\n",
       "      <td>36.80</td>\n",
       "      <td>4.53</td>\n",
       "      <td>43.5</td>\n",
       "      <td>1930</td>\n",
       "      <td>6.390</td>\n",
       "      <td>56.5</td>\n",
       "      <td>6.59</td>\n",
       "      <td>897</td>\n",
       "      <td>2</td>\n",
       "    </tr>\n",
       "    <tr>\n",
       "      <th>36</th>\n",
       "      <td>Comoros</td>\n",
       "      <td>88.2</td>\n",
       "      <td>16.50</td>\n",
       "      <td>4.51</td>\n",
       "      <td>51.7</td>\n",
       "      <td>1410</td>\n",
       "      <td>3.870</td>\n",
       "      <td>65.9</td>\n",
       "      <td>4.75</td>\n",
       "      <td>769</td>\n",
       "      <td>2</td>\n",
       "    </tr>\n",
       "    <tr>\n",
       "      <th>37</th>\n",
       "      <td>Congo, Dem. Rep.</td>\n",
       "      <td>116.0</td>\n",
       "      <td>41.10</td>\n",
       "      <td>7.91</td>\n",
       "      <td>49.6</td>\n",
       "      <td>609</td>\n",
       "      <td>20.800</td>\n",
       "      <td>57.5</td>\n",
       "      <td>6.54</td>\n",
       "      <td>334</td>\n",
       "      <td>2</td>\n",
       "    </tr>\n",
       "    <tr>\n",
       "      <th>40</th>\n",
       "      <td>Cote d'Ivoire</td>\n",
       "      <td>111.0</td>\n",
       "      <td>50.60</td>\n",
       "      <td>5.30</td>\n",
       "      <td>43.3</td>\n",
       "      <td>2690</td>\n",
       "      <td>5.390</td>\n",
       "      <td>56.3</td>\n",
       "      <td>5.27</td>\n",
       "      <td>1220</td>\n",
       "      <td>2</td>\n",
       "    </tr>\n",
       "    <tr>\n",
       "      <th>56</th>\n",
       "      <td>Gambia</td>\n",
       "      <td>80.3</td>\n",
       "      <td>23.80</td>\n",
       "      <td>5.69</td>\n",
       "      <td>42.7</td>\n",
       "      <td>1660</td>\n",
       "      <td>4.300</td>\n",
       "      <td>65.5</td>\n",
       "      <td>5.71</td>\n",
       "      <td>562</td>\n",
       "      <td>2</td>\n",
       "    </tr>\n",
       "    <tr>\n",
       "      <th>63</th>\n",
       "      <td>Guinea</td>\n",
       "      <td>109.0</td>\n",
       "      <td>30.30</td>\n",
       "      <td>4.93</td>\n",
       "      <td>43.2</td>\n",
       "      <td>1190</td>\n",
       "      <td>16.100</td>\n",
       "      <td>58.0</td>\n",
       "      <td>5.34</td>\n",
       "      <td>648</td>\n",
       "      <td>2</td>\n",
       "    </tr>\n",
       "    <tr>\n",
       "      <th>64</th>\n",
       "      <td>Guinea-Bissau</td>\n",
       "      <td>114.0</td>\n",
       "      <td>14.90</td>\n",
       "      <td>8.50</td>\n",
       "      <td>35.2</td>\n",
       "      <td>1390</td>\n",
       "      <td>2.970</td>\n",
       "      <td>55.6</td>\n",
       "      <td>5.05</td>\n",
       "      <td>547</td>\n",
       "      <td>2</td>\n",
       "    </tr>\n",
       "    <tr>\n",
       "      <th>66</th>\n",
       "      <td>Haiti</td>\n",
       "      <td>208.0</td>\n",
       "      <td>15.30</td>\n",
       "      <td>6.91</td>\n",
       "      <td>64.7</td>\n",
       "      <td>1500</td>\n",
       "      <td>5.450</td>\n",
       "      <td>32.1</td>\n",
       "      <td>3.33</td>\n",
       "      <td>662</td>\n",
       "      <td>2</td>\n",
       "    </tr>\n",
       "    <tr>\n",
       "      <th>80</th>\n",
       "      <td>Kenya</td>\n",
       "      <td>62.2</td>\n",
       "      <td>20.70</td>\n",
       "      <td>4.75</td>\n",
       "      <td>33.6</td>\n",
       "      <td>2480</td>\n",
       "      <td>2.090</td>\n",
       "      <td>62.8</td>\n",
       "      <td>4.37</td>\n",
       "      <td>967</td>\n",
       "      <td>2</td>\n",
       "    </tr>\n",
       "    <tr>\n",
       "      <th>93</th>\n",
       "      <td>Madagascar</td>\n",
       "      <td>62.2</td>\n",
       "      <td>25.00</td>\n",
       "      <td>3.77</td>\n",
       "      <td>43.0</td>\n",
       "      <td>1390</td>\n",
       "      <td>8.790</td>\n",
       "      <td>60.8</td>\n",
       "      <td>4.60</td>\n",
       "      <td>413</td>\n",
       "      <td>2</td>\n",
       "    </tr>\n",
       "    <tr>\n",
       "      <th>94</th>\n",
       "      <td>Malawi</td>\n",
       "      <td>90.5</td>\n",
       "      <td>22.80</td>\n",
       "      <td>6.59</td>\n",
       "      <td>34.9</td>\n",
       "      <td>1030</td>\n",
       "      <td>12.100</td>\n",
       "      <td>53.1</td>\n",
       "      <td>5.31</td>\n",
       "      <td>459</td>\n",
       "      <td>2</td>\n",
       "    </tr>\n",
       "    <tr>\n",
       "      <th>97</th>\n",
       "      <td>Mali</td>\n",
       "      <td>137.0</td>\n",
       "      <td>22.80</td>\n",
       "      <td>4.98</td>\n",
       "      <td>35.1</td>\n",
       "      <td>1870</td>\n",
       "      <td>4.370</td>\n",
       "      <td>59.5</td>\n",
       "      <td>6.55</td>\n",
       "      <td>708</td>\n",
       "      <td>2</td>\n",
       "    </tr>\n",
       "    <tr>\n",
       "      <th>106</th>\n",
       "      <td>Mozambique</td>\n",
       "      <td>101.0</td>\n",
       "      <td>31.50</td>\n",
       "      <td>5.21</td>\n",
       "      <td>46.2</td>\n",
       "      <td>918</td>\n",
       "      <td>7.640</td>\n",
       "      <td>54.5</td>\n",
       "      <td>5.56</td>\n",
       "      <td>419</td>\n",
       "      <td>2</td>\n",
       "    </tr>\n",
       "    <tr>\n",
       "      <th>112</th>\n",
       "      <td>Niger</td>\n",
       "      <td>123.0</td>\n",
       "      <td>22.20</td>\n",
       "      <td>5.16</td>\n",
       "      <td>49.1</td>\n",
       "      <td>814</td>\n",
       "      <td>2.550</td>\n",
       "      <td>58.8</td>\n",
       "      <td>7.49</td>\n",
       "      <td>348</td>\n",
       "      <td>2</td>\n",
       "    </tr>\n",
       "    <tr>\n",
       "      <th>126</th>\n",
       "      <td>Rwanda</td>\n",
       "      <td>63.6</td>\n",
       "      <td>12.00</td>\n",
       "      <td>10.50</td>\n",
       "      <td>30.0</td>\n",
       "      <td>1350</td>\n",
       "      <td>2.610</td>\n",
       "      <td>64.6</td>\n",
       "      <td>4.51</td>\n",
       "      <td>563</td>\n",
       "      <td>2</td>\n",
       "    </tr>\n",
       "    <tr>\n",
       "      <th>129</th>\n",
       "      <td>Senegal</td>\n",
       "      <td>66.8</td>\n",
       "      <td>24.90</td>\n",
       "      <td>5.66</td>\n",
       "      <td>40.3</td>\n",
       "      <td>2180</td>\n",
       "      <td>1.850</td>\n",
       "      <td>64.0</td>\n",
       "      <td>5.06</td>\n",
       "      <td>1000</td>\n",
       "      <td>2</td>\n",
       "    </tr>\n",
       "    <tr>\n",
       "      <th>132</th>\n",
       "      <td>Sierra Leone</td>\n",
       "      <td>160.0</td>\n",
       "      <td>16.80</td>\n",
       "      <td>13.10</td>\n",
       "      <td>34.5</td>\n",
       "      <td>1220</td>\n",
       "      <td>17.200</td>\n",
       "      <td>55.0</td>\n",
       "      <td>5.20</td>\n",
       "      <td>399</td>\n",
       "      <td>2</td>\n",
       "    </tr>\n",
       "    <tr>\n",
       "      <th>147</th>\n",
       "      <td>Tanzania</td>\n",
       "      <td>71.9</td>\n",
       "      <td>18.70</td>\n",
       "      <td>6.01</td>\n",
       "      <td>29.1</td>\n",
       "      <td>2090</td>\n",
       "      <td>9.250</td>\n",
       "      <td>59.3</td>\n",
       "      <td>5.43</td>\n",
       "      <td>702</td>\n",
       "      <td>2</td>\n",
       "    </tr>\n",
       "    <tr>\n",
       "      <th>150</th>\n",
       "      <td>Togo</td>\n",
       "      <td>90.3</td>\n",
       "      <td>40.20</td>\n",
       "      <td>7.65</td>\n",
       "      <td>57.3</td>\n",
       "      <td>1210</td>\n",
       "      <td>1.180</td>\n",
       "      <td>58.7</td>\n",
       "      <td>4.87</td>\n",
       "      <td>488</td>\n",
       "      <td>2</td>\n",
       "    </tr>\n",
       "    <tr>\n",
       "      <th>155</th>\n",
       "      <td>Uganda</td>\n",
       "      <td>81.0</td>\n",
       "      <td>17.10</td>\n",
       "      <td>9.01</td>\n",
       "      <td>28.6</td>\n",
       "      <td>1540</td>\n",
       "      <td>10.600</td>\n",
       "      <td>56.8</td>\n",
       "      <td>6.15</td>\n",
       "      <td>595</td>\n",
       "      <td>2</td>\n",
       "    </tr>\n",
       "    <tr>\n",
       "      <th>166</th>\n",
       "      <td>Zambia</td>\n",
       "      <td>83.1</td>\n",
       "      <td>37.00</td>\n",
       "      <td>5.89</td>\n",
       "      <td>30.9</td>\n",
       "      <td>3280</td>\n",
       "      <td>14.000</td>\n",
       "      <td>52.0</td>\n",
       "      <td>5.40</td>\n",
       "      <td>1460</td>\n",
       "      <td>2</td>\n",
       "    </tr>\n",
       "  </tbody>\n",
       "</table>\n",
       "</div>"
      ],
      "text/plain": [
       "                      country  child_mort  exports  health  imports  income  \\\n",
       "0                 Afghanistan        90.2    10.00    7.58     44.9    1610   \n",
       "17                      Benin       111.0    23.80    4.10     37.2    1820   \n",
       "25               Burkina Faso       116.0    19.20    6.74     29.6    1430   \n",
       "26                    Burundi        93.6     8.92   11.60     39.2     764   \n",
       "28                   Cameroon       108.0    22.20    5.13     27.0    2660   \n",
       "31   Central African Republic       149.0    11.80    3.98     26.5     888   \n",
       "32                       Chad       150.0    36.80    4.53     43.5    1930   \n",
       "36                    Comoros        88.2    16.50    4.51     51.7    1410   \n",
       "37           Congo, Dem. Rep.       116.0    41.10    7.91     49.6     609   \n",
       "40              Cote d'Ivoire       111.0    50.60    5.30     43.3    2690   \n",
       "56                     Gambia        80.3    23.80    5.69     42.7    1660   \n",
       "63                     Guinea       109.0    30.30    4.93     43.2    1190   \n",
       "64              Guinea-Bissau       114.0    14.90    8.50     35.2    1390   \n",
       "66                      Haiti       208.0    15.30    6.91     64.7    1500   \n",
       "80                      Kenya        62.2    20.70    4.75     33.6    2480   \n",
       "93                 Madagascar        62.2    25.00    3.77     43.0    1390   \n",
       "94                     Malawi        90.5    22.80    6.59     34.9    1030   \n",
       "97                       Mali       137.0    22.80    4.98     35.1    1870   \n",
       "106                Mozambique       101.0    31.50    5.21     46.2     918   \n",
       "112                     Niger       123.0    22.20    5.16     49.1     814   \n",
       "126                    Rwanda        63.6    12.00   10.50     30.0    1350   \n",
       "129                   Senegal        66.8    24.90    5.66     40.3    2180   \n",
       "132              Sierra Leone       160.0    16.80   13.10     34.5    1220   \n",
       "147                  Tanzania        71.9    18.70    6.01     29.1    2090   \n",
       "150                      Togo        90.3    40.20    7.65     57.3    1210   \n",
       "155                    Uganda        81.0    17.10    9.01     28.6    1540   \n",
       "166                    Zambia        83.1    37.00    5.89     30.9    3280   \n",
       "\n",
       "     inflation  life_expec  total_fer  gdpp  Cluster  \n",
       "0        9.440        56.2       5.82   553        2  \n",
       "17       0.885        61.8       5.36   758        2  \n",
       "25       6.810        57.9       5.87   575        2  \n",
       "26      12.300        57.7       6.26   231        2  \n",
       "28       1.910        57.3       5.11  1310        2  \n",
       "31       2.010        47.5       5.21   446        2  \n",
       "32       6.390        56.5       6.59   897        2  \n",
       "36       3.870        65.9       4.75   769        2  \n",
       "37      20.800        57.5       6.54   334        2  \n",
       "40       5.390        56.3       5.27  1220        2  \n",
       "56       4.300        65.5       5.71   562        2  \n",
       "63      16.100        58.0       5.34   648        2  \n",
       "64       2.970        55.6       5.05   547        2  \n",
       "66       5.450        32.1       3.33   662        2  \n",
       "80       2.090        62.8       4.37   967        2  \n",
       "93       8.790        60.8       4.60   413        2  \n",
       "94      12.100        53.1       5.31   459        2  \n",
       "97       4.370        59.5       6.55   708        2  \n",
       "106      7.640        54.5       5.56   419        2  \n",
       "112      2.550        58.8       7.49   348        2  \n",
       "126      2.610        64.6       4.51   563        2  \n",
       "129      1.850        64.0       5.06  1000        2  \n",
       "132     17.200        55.0       5.20   399        2  \n",
       "147      9.250        59.3       5.43   702        2  \n",
       "150      1.180        58.7       4.87   488        2  \n",
       "155     10.600        56.8       6.15   595        2  \n",
       "166     14.000        52.0       5.40  1460        2  "
      ]
     },
     "execution_count": 38,
     "metadata": {},
     "output_type": "execute_result"
    }
   ],
   "source": [
    "data[data[\"Cluster\"] == 2]"
   ]
  },
  {
   "cell_type": "code",
   "execution_count": 39,
   "metadata": {},
   "outputs": [],
   "source": [
    "cluster_labels = data[\"Cluster\"].to_list()"
   ]
  },
  {
   "cell_type": "markdown",
   "metadata": {
    "id": "sWxUfMVUapEe"
   },
   "source": [
    "### Part 7: Low‑Dimensional Insight with PCA\n",
    "**Note:** PCA is *only* for display; it was **not** used to fit the clusters.  "
   ]
  },
  {
   "cell_type": "code",
   "execution_count": 40,
   "metadata": {
    "id": "UC9Yh2GcIrva"
   },
   "outputs": [
    {
     "data": {
      "image/png": "[encoded data removed]",
      "text/plain": [
       "<Figure size 1000x700 with 1 Axes>"
      ]
     },
     "metadata": {},
     "output_type": "display_data"
    }
   ],
   "source": [
    "# Step 4: Visualize the Clustering Results Using PCA\n",
    "from sklearn.decomposition import PCA\n",
    "\n",
    "# Reduce the dimensions for visualization (2D scatter plot)\n",
    "pca = PCA(n_components=2)\n",
    "X_pca = pca.fit_transform(X_scaled)\n",
    "\n",
    "plt.figure(figsize=(10, 7))\n",
    "scatter = plt.scatter(X_pca[:, 0], X_pca[:, 1], c=cluster_labels, cmap='viridis', s=60, edgecolor='k', alpha=0.7)\n",
    "plt.xlabel('Principal Component 1')\n",
    "plt.ylabel('Principal Component 2')\n",
    "plt.title('Agglomerative Clustering on Country Data (via PCA)')\n",
    "plt.legend(*scatter.legend_elements(), title=\"Clusters\")\n",
    "plt.grid(True)\n",
    "plt.show()"
   ]
  },
  {
   "cell_type": "markdown",
   "metadata": {
    "id": "ESJSzB3La6jR"
   },
   "source": [
    "### Part 8: Putting Clusters on the Map  \n",
    "Choropleth maps make the result tangible for non‑technical audiences.  \n",
    "Plotly Express offers an immediate interactive world map keyed by **country name**.  "
   ]
  },
  {
   "cell_type": "code",
   "execution_count": 41,
   "metadata": {
    "id": "sLMiebWyJ-LU"
   },
   "outputs": [
    {
     "data": {
      "application/vnd.plotly.v1+json": {
       "config": {
        "plotlyServerURL": "https://plot.ly"
       },
       "data": [
        {
         "coloraxis": "coloraxis",
         "geo": "geo",
         "hovertemplate": "country=%{location}<br>Cluster=%{z}<extra></extra>",
         "locationmode": "country names",
         "locations": [
          "Afghanistan",
          "Albania",
          "Algeria",
          "Angola",
          "Antigua and Barbuda",
          "Argentina",
          "Armenia",
          "Australia",
          "Austria",
          "Azerbaijan",
          "Bahamas",
          "Bahrain",
          "Bangladesh",
          "Barbados",
          "Belarus",
          "Belgium",
          "Belize",
          "Benin",
          "Bhutan",
          "Bolivia",
          "Bosnia and Herzegovina",
          "Botswana",
          "Brazil",
          "Brunei",
          "Bulgaria",
          "Burkina Faso",
          "Burundi",
          "Cambodia",
          "Cameroon",
          "Canada",
          "Cape Verde",
          "Central African Republic",
          "Chad",
          "Chile",
          "China",
          "Colombia",
          "Comoros",
          "Congo, Dem. Rep.",
          "Congo, Rep.",
          "Costa Rica",
          "Cote d'Ivoire",
          "Croatia",
          "Cyprus",
          "Czech Republic",
          "Denmark",
          "Dominican Republic",
          "Ecuador",
          "Egypt",
          "El Salvador",
          "Equatorial Guinea",
          "Eritrea",
          "Estonia",
          "Fiji",
          "Finland",
          "France",
          "Gabon",
          "Gambia",
          "Georgia",
          "Germany",
          "Ghana",
          "Greece",
          "Grenada",
          "Guatemala",
          "Guinea",
          "Guinea-Bissau",
          "Guyana",
          "Haiti",
          "Hungary",
          "Iceland",
          "India",
          "Indonesia",
          "Iran",
          "Iraq",
          "Ireland",
          "Israel",
          "Italy",
          "Jamaica",
          "Japan",
          "Jordan",
          "Kazakhstan",
          "Kenya",
          "Kiribati",
          "Kuwait",
          "Kyrgyz Republic",
          "Lao",
          "Latvia",
          "Lebanon",
          "Lesotho",
          "Liberia",
          "Libya",
          "Lithuania",
          "Luxembourg",
          "Macedonia, FYR",
          "Madagascar",
          "Malawi",
          "Malaysia",
          "Maldives",
          "Mali",
          "Malta",
          "Mauritania",
          "Mauritius",
          "Micronesia, Fed. Sts.",
          "Moldova",
          "Mongolia",
          "Montenegro",
          "Morocco",
          "Mozambique",
          "Myanmar",
          "Namibia",
          "Nepal",
          "Netherlands",
          "New Zealand",
          "Niger",
          "Nigeria",
          "Norway",
          "Oman",
          "Pakistan",
          "Panama",
          "Paraguay",
          "Peru",
          "Philippines",
          "Poland",
          "Portugal",
          "Qatar",
          "Romania",
          "Russia",
          "Rwanda",
          "Samoa",
          "Saudi Arabia",
          "Senegal",
          "Serbia",
          "Seychelles",
          "Sierra Leone",
          "Singapore",
          "Slovak Republic",
          "Slovenia",
          "Solomon Islands",
          "South Africa",
          "South Korea",
          "Spain",
          "Sri Lanka",
          "St. Vincent and the Grenadines",
          "Sudan",
          "Suriname",
          "Sweden",
          "Switzerland",
          "Tajikistan",
          "Tanzania",
          "Thailand",
          "Timor-Leste",
          "Togo",
          "Tonga",
          "Tunisia",
          "Turkey",
          "Turkmenistan",
          "Uganda",
          "Ukraine",
          "United Arab Emirates",
          "United Kingdom",
          "United States",
          "Uruguay",
          "Uzbekistan",
          "Vanuatu",
          "Venezuela",
          "Vietnam",
          "Yemen",
          "Zambia"
         ],
         "name": "",
         "type": "choropleth",
         "z": [
          2,
          0,
          0,
          0,
          0,
          0,
          0,
          1,
          1,
          0,
          0,
          1,
          0,
          0,
          0,
          1,
          0,
          2,
          0,
          0,
          0,
          0,
          0,
          1,
          0,
          2,
          2,
          0,
          2,
          1,
          0,
          2,
          2,
          0,
          0,
          0,
          2,
          2,
          0,
          0,
          2,
          0,
          0,
          0,
          1,
          0,
          0,
          0,
          0,
          0,
          0,
          0,
          0,
          1,
          1,
          0,
          2,
          0,
          1,
          0,
          1,
          0,
          0,
          2,
          2,
          0,
          2,
          0,
          1,
          0,
          0,
          0,
          0,
          1,
          1,
          1,
          0,
          1,
          0,
          0,
          2,
          0,
          1,
          0,
          0,
          0,
          0,
          0,
          0,
          1,
          0,
          3,
          0,
          2,
          2,
          0,
          0,
          2,
          3,
          0,
          0,
          0,
          0,
          0,
          0,
          0,
          2,
          0,
          0,
          0,
          1,
          1,
          2,
          0,
          1,
          1,
          0,
          0,
          0,
          0,
          0,
          0,
          1,
          1,
          0,
          0,
          2,
          0,
          1,
          2,
          0,
          0,
          2,
          3,
          0,
          0,
          0,
          0,
          0,
          1,
          0,
          0,
          0,
          0,
          1,
          1,
          0,
          2,
          0,
          0,
          2,
          0,
          0,
          0,
          0,
          2,
          0,
          1,
          1,
          1,
          0,
          0,
          0,
          0,
          0,
          0,
          2
         ]
        }
       ],
       "layout": {
        "coloraxis": {
         "colorbar": {
          "title": {
           "text": "Cluster"
          }
         },
         "colorscale": [
          [
           0,
           "#0d0887"
          ],
          [
           0.1111111111111111,
           "#46039f"
          ],
          [
           0.2222222222222222,
           "#7201a8"
          ],
          [
           0.3333333333333333,
           "#9c179e"
          ],
          [
           0.4444444444444444,
           "#bd3786"
          ],
          [
           0.5555555555555556,
           "#d8576b"
          ],
          [
           0.6666666666666666,
           "#ed7953"
          ],
          [
           0.7777777777777778,
           "#fb9f3a"
          ],
          [
           0.8888888888888888,
           "#fdca26"
          ],
          [
           1,
           "#f0f921"
          ]
         ]
        },
        "geo": {
         "center": {},
         "domain": {
          "x": [
           0,
           1
          ],
          "y": [
           0,
           1
          ]
         },
         "fitbounds": "locations",
         "visible": true
        },
        "legend": {
         "title": {
          "side": "top",
          "text": "Cluster"
         },
         "tracegroupgap": 0
        },
        "template": {
         "data": {
          "bar": [
           {
            "error_x": {
             "color": "#2a3f5f"
            },
            "error_y": {
             "color": "#2a3f5f"
            },
            "marker": {
             "line": {
              "color": "#E5ECF6",
              "width": 0.5
             },
             "pattern": {
              "fillmode": "overlay",
              "size": 10,
              "solidity": 0.2
             }
            },
            "type": "bar"
           }
          ],
          "barpolar": [
           {
            "marker": {
             "line": {
              "color": "#E5ECF6",
              "width": 0.5
             },
             "pattern": {
              "fillmode": "overlay",
              "size": 10,
              "solidity": 0.2
             }
            },
            "type": "barpolar"
           }
          ],
          "carpet": [
           {
            "aaxis": {
             "endlinecolor": "#2a3f5f",
             "gridcolor": "white",
             "linecolor": "white",
             "minorgridcolor": "white",
             "startlinecolor": "#2a3f5f"
            },
            "baxis": {
             "endlinecolor": "#2a3f5f",
             "gridcolor": "white",
             "linecolor": "white",
             "minorgridcolor": "white",
             "startlinecolor": "#2a3f5f"
            },
            "type": "carpet"
           }
          ],
          "choropleth": [
           {
            "colorbar": {
             "outlinewidth": 0,
             "ticks": ""
            },
            "type": "choropleth"
           }
          ],
          "contour": [
           {
            "colorbar": {
             "outlinewidth": 0,
             "ticks": ""
            },
            "colorscale": [
             [
              0,
              "#0d0887"
             ],
             [
              0.1111111111111111,
              "#46039f"
             ],
             [
              0.2222222222222222,
              "#7201a8"
             ],
             [
              0.3333333333333333,
              "#9c179e"
             ],
             [
              0.4444444444444444,
              "#bd3786"
             ],
             [
              0.5555555555555556,
              "#d8576b"
             ],
             [
              0.6666666666666666,
              "#ed7953"
             ],
             [
              0.7777777777777778,
              "#fb9f3a"
             ],
             [
              0.8888888888888888,
              "#fdca26"
             ],
             [
              1,
              "#f0f921"
             ]
            ],
            "type": "contour"
           }
          ],
          "contourcarpet": [
           {
            "colorbar": {
             "outlinewidth": 0,
             "ticks": ""
            },
            "type": "contourcarpet"
           }
          ],
          "heatmap": [
           {
            "colorbar": {
             "outlinewidth": 0,
             "ticks": ""
            },
            "colorscale": [
             [
              0,
              "#0d0887"
             ],
             [
              0.1111111111111111,
              "#46039f"
             ],
             [
              0.2222222222222222,
              "#7201a8"
             ],
             [
              0.3333333333333333,
              "#9c179e"
             ],
             [
              0.4444444444444444,
              "#bd3786"
             ],
             [
              0.5555555555555556,
              "#d8576b"
             ],
             [
              0.6666666666666666,
              "#ed7953"
             ],
             [
              0.7777777777777778,
              "#fb9f3a"
             ],
             [
              0.8888888888888888,
              "#fdca26"
             ],
             [
              1,
              "#f0f921"
             ]
            ],
            "type": "heatmap"
           }
          ],
          "heatmapgl": [
           {
            "colorbar": {
             "outlinewidth": 0,
             "ticks": ""
            },
            "colorscale": [
             [
              0,
              "#0d0887"
             ],
             [
              0.1111111111111111,
              "#46039f"
             ],
             [
              0.2222222222222222,
              "#7201a8"
             ],
             [
              0.3333333333333333,
              "#9c179e"
             ],
             [
              0.4444444444444444,
              "#bd3786"
             ],
             [
              0.5555555555555556,
              "#d8576b"
             ],
             [
              0.6666666666666666,
              "#ed7953"
             ],
             [
              0.7777777777777778,
              "#fb9f3a"
             ],
             [
              0.8888888888888888,
              "#fdca26"
             ],
             [
              1,
              "#f0f921"
             ]
            ],
            "type": "heatmapgl"
           }
          ],
          "histogram": [
           {
            "marker": {
             "pattern": {
              "fillmode": "overlay",
              "size": 10,
              "solidity": 0.2
             }
            },
            "type": "histogram"
           }
          ],
          "histogram2d": [
           {
            "colorbar": {
             "outlinewidth": 0,
             "ticks": ""
            },
            "colorscale": [
             [
              0,
              "#0d0887"
             ],
             [
              0.1111111111111111,
              "#46039f"
             ],
             [
              0.2222222222222222,
              "#7201a8"
             ],
             [
              0.3333333333333333,
              "#9c179e"
             ],
             [
              0.4444444444444444,
              "#bd3786"
             ],
             [
              0.5555555555555556,
              "#d8576b"
             ],
             [
              0.6666666666666666,
              "#ed7953"
             ],
             [
              0.7777777777777778,
              "#fb9f3a"
             ],
             [
              0.8888888888888888,
              "#fdca26"
             ],
             [
              1,
              "#f0f921"
             ]
            ],
            "type": "histogram2d"
           }
          ],
          "histogram2dcontour": [
           {
            "colorbar": {
             "outlinewidth": 0,
             "ticks": ""
            },
            "colorscale": [
             [
              0,
              "#0d0887"
             ],
             [
              0.1111111111111111,
              "#46039f"
             ],
             [
              0.2222222222222222,
              "#7201a8"
             ],
             [
              0.3333333333333333,
              "#9c179e"
             ],
             [
              0.4444444444444444,
              "#bd3786"
             ],
             [
              0.5555555555555556,
              "#d8576b"
             ],
             [
              0.6666666666666666,
              "#ed7953"
             ],
             [
              0.7777777777777778,
              "#fb9f3a"
             ],
             [
              0.8888888888888888,
              "#fdca26"
             ],
             [
              1,
              "#f0f921"
             ]
            ],
            "type": "histogram2dcontour"
           }
          ],
          "mesh3d": [
           {
            "colorbar": {
             "outlinewidth": 0,
             "ticks": ""
            },
            "type": "mesh3d"
           }
          ],
          "parcoords": [
           {
            "line": {
             "colorbar": {
              "outlinewidth": 0,
              "ticks": ""
             }
            },
            "type": "parcoords"
           }
          ],
          "pie": [
           {
            "automargin": true,
            "type": "pie"
           }
          ],
          "scatter": [
           {
            "fillpattern": {
             "fillmode": "overlay",
             "size": 10,
             "solidity": 0.2
            },
            "type": "scatter"
           }
          ],
          "scatter3d": [
           {
            "line": {
             "colorbar": {
              "outlinewidth": 0,
              "ticks": ""
             }
            },
            "marker": {
             "colorbar": {
              "outlinewidth": 0,
              "ticks": ""
             }
            },
            "type": "scatter3d"
           }
          ],
          "scattercarpet": [
           {
            "marker": {
             "colorbar": {
              "outlinewidth": 0,
              "ticks": ""
             }
            },
            "type": "scattercarpet"
           }
          ],
          "scattergeo": [
           {
            "marker": {
             "colorbar": {
              "outlinewidth": 0,
              "ticks": ""
             }
            },
            "type": "scattergeo"
           }
          ],
          "scattergl": [
           {
            "marker": {
             "colorbar": {
              "outlinewidth": 0,
              "ticks": ""
             }
            },
            "type": "scattergl"
           }
          ],
          "scattermapbox": [
           {
            "marker": {
             "colorbar": {
              "outlinewidth": 0,
              "ticks": ""
             }
            },
            "type": "scattermapbox"
           }
          ],
          "scatterpolar": [
           {
            "marker": {
             "colorbar": {
              "outlinewidth": 0,
              "ticks": ""
             }
            },
            "type": "scatterpolar"
           }
          ],
          "scatterpolargl": [
           {
            "marker": {
             "colorbar": {
              "outlinewidth": 0,
              "ticks": ""
             }
            },
            "type": "scatterpolargl"
           }
          ],
          "scatterternary": [
           {
            "marker": {
             "colorbar": {
              "outlinewidth": 0,
              "ticks": ""
             }
            },
            "type": "scatterternary"
           }
          ],
          "surface": [
           {
            "colorbar": {
             "outlinewidth": 0,
             "ticks": ""
            },
            "colorscale": [
             [
              0,
              "#0d0887"
             ],
             [
              0.1111111111111111,
              "#46039f"
             ],
             [
              0.2222222222222222,
              "#7201a8"
             ],
             [
              0.3333333333333333,
              "#9c179e"
             ],
             [
              0.4444444444444444,
              "#bd3786"
             ],
             [
              0.5555555555555556,
              "#d8576b"
             ],
             [
              0.6666666666666666,
              "#ed7953"
             ],
             [
              0.7777777777777778,
              "#fb9f3a"
             ],
             [
              0.8888888888888888,
              "#fdca26"
             ],
             [
              1,
              "#f0f921"
             ]
            ],
            "type": "surface"
           }
          ],
          "table": [
           {
            "cells": {
             "fill": {
              "color": "#EBF0F8"
             },
             "line": {
              "color": "white"
             }
            },
            "header": {
             "fill": {
              "color": "#C8D4E3"
             },
             "line": {
              "color": "white"
             }
            },
            "type": "table"
           }
          ]
         },
         "layout": {
          "annotationdefaults": {
           "arrowcolor": "#2a3f5f",
           "arrowhead": 0,
           "arrowwidth": 1
          },
          "autotypenumbers": "strict",
          "coloraxis": {
           "colorbar": {
            "outlinewidth": 0,
            "ticks": ""
           }
          },
          "colorscale": {
           "diverging": [
            [
             0,
             "#8e0152"
            ],
            [
             0.1,
             "#c51b7d"
            ],
            [
             0.2,
             "#de77ae"
            ],
            [
             0.3,
             "#f1b6da"
            ],
            [
             0.4,
             "#fde0ef"
            ],
            [
             0.5,
             "#f7f7f7"
            ],
            [
             0.6,
             "#e6f5d0"
            ],
            [
             0.7,
             "#b8e186"
            ],
            [
             0.8,
             "#7fbc41"
            ],
            [
             0.9,
             "#4d9221"
            ],
            [
             1,
             "#276419"
            ]
           ],
           "sequential": [
            [
             0,
             "#0d0887"
            ],
            [
             0.1111111111111111,
             "#46039f"
            ],
            [
             0.2222222222222222,
             "#7201a8"
            ],
            [
             0.3333333333333333,
             "#9c179e"
            ],
            [
             0.4444444444444444,
             "#bd3786"
            ],
            [
             0.5555555555555556,
             "#d8576b"
            ],
            [
             0.6666666666666666,
             "#ed7953"
            ],
            [
             0.7777777777777778,
             "#fb9f3a"
            ],
            [
             0.8888888888888888,
             "#fdca26"
            ],
            [
             1,
             "#f0f921"
            ]
           ],
           "sequentialminus": [
            [
             0,
             "#0d0887"
            ],
            [
             0.1111111111111111,
             "#46039f"
            ],
            [
             0.2222222222222222,
             "#7201a8"
            ],
            [
             0.3333333333333333,
             "#9c179e"
            ],
            [
             0.4444444444444444,
             "#bd3786"
            ],
            [
             0.5555555555555556,
             "#d8576b"
            ],
            [
             0.6666666666666666,
             "#ed7953"
            ],
            [
             0.7777777777777778,
             "#fb9f3a"
            ],
            [
             0.8888888888888888,
             "#fdca26"
            ],
            [
             1,
             "#f0f921"
            ]
           ]
          },
          "colorway": [
           "#636efa",
           "#EF553B",
           "#00cc96",
           "#ab63fa",
           "#FFA15A",
           "#19d3f3",
           "#FF6692",
           "#B6E880",
           "#FF97FF",
           "#FECB52"
          ],
          "font": {
           "color": "#2a3f5f"
          },
          "geo": {
           "bgcolor": "white",
           "lakecolor": "white",
           "landcolor": "#E5ECF6",
           "showlakes": true,
           "showland": true,
           "subunitcolor": "white"
          },
          "hoverlabel": {
           "align": "left"
          },
          "hovermode": "closest",
          "mapbox": {
           "style": "light"
          },
          "paper_bgcolor": "white",
          "plot_bgcolor": "#E5ECF6",
          "polar": {
           "angularaxis": {
            "gridcolor": "white",
            "linecolor": "white",
            "ticks": ""
           },
           "bgcolor": "#E5ECF6",
           "radialaxis": {
            "gridcolor": "white",
            "linecolor": "white",
            "ticks": ""
           }
          },
          "scene": {
           "xaxis": {
            "backgroundcolor": "#E5ECF6",
            "gridcolor": "white",
            "gridwidth": 2,
            "linecolor": "white",
            "showbackground": true,
            "ticks": "",
            "zerolinecolor": "white"
           },
           "yaxis": {
            "backgroundcolor": "#E5ECF6",
            "gridcolor": "white",
            "gridwidth": 2,
            "linecolor": "white",
            "showbackground": true,
            "ticks": "",
            "zerolinecolor": "white"
           },
           "zaxis": {
            "backgroundcolor": "#E5ECF6",
            "gridcolor": "white",
            "gridwidth": 2,
            "linecolor": "white",
            "showbackground": true,
            "ticks": "",
            "zerolinecolor": "white"
           }
          },
          "shapedefaults": {
           "line": {
            "color": "#2a3f5f"
           }
          },
          "ternary": {
           "aaxis": {
            "gridcolor": "white",
            "linecolor": "white",
            "ticks": ""
           },
           "baxis": {
            "gridcolor": "white",
            "linecolor": "white",
            "ticks": ""
           },
           "bgcolor": "#E5ECF6",
           "caxis": {
            "gridcolor": "white",
            "linecolor": "white",
            "ticks": ""
           }
          },
          "title": {
           "x": 0.05
          },
          "xaxis": {
           "automargin": true,
           "gridcolor": "white",
           "linecolor": "white",
           "ticks": "",
           "title": {
            "standoff": 15
           },
           "zerolinecolor": "white",
           "zerolinewidth": 2
          },
          "yaxis": {
           "automargin": true,
           "gridcolor": "white",
           "linecolor": "white",
           "ticks": "",
           "title": {
            "standoff": 15
           },
           "zerolinecolor": "white",
           "zerolinewidth": 2
          }
         }
        },
        "title": {
         "text": "Country Clusters on World Map"
        }
       }
      }
     },
     "metadata": {},
     "output_type": "display_data"
    }
   ],
   "source": [
    "import plotly.express as px\n",
    "\n",
    "# Define a discrete color mapping for the clusters (adjust colors as needed)\n",
    "color_map = {0:\"blue\", 1:\"orange\", 2:\"green\", 3:\"red\"}  # add more if k>4\n",
    "\n",
    "\n",
    "# Create the choropleth map\n",
    "fig = px.choropleth(\n",
    "    data[['country', 'Cluster']],\n",
    "    locationmode='country names',\n",
    "    locations='country',\n",
    "    title='Country Clusters on World Map',\n",
    "    color='Cluster',\n",
    "    color_discrete_map=color_map\n",
    ")\n",
    "\n",
    "# Update the geographic layout and legend settings\n",
    "fig.update_geos(fitbounds=\"locations\", visible=True)\n",
    "fig.update_layout(\n",
    "    legend_title_text='Cluster',\n",
    "    legend_title_side='top'\n",
    ")\n",
    "\n",
    "fig.show(engine='kaleido')"
   ]
  },
  {
   "cell_type": "code",
   "execution_count": 42,
   "metadata": {
    "id": "mdFC94YJl_zX"
   },
   "outputs": [
    {
     "data": {
      "image/png": "[encoded data removed]",
      "text/plain": [
       "<Figure size 700x400 with 1 Axes>"
      ]
     },
     "metadata": {},
     "output_type": "display_data"
    },
    {
     "name": "stdout",
     "output_type": "stream",
     "text": [
      "Best k by silhouette: 2  (score=0.315)\n"
     ]
    }
   ],
   "source": [
    "# --- OPTIMAL k: Silhouette Elbow ----------------------------------------\n",
    "from sklearn.cluster import AgglomerativeClustering\n",
    "from sklearn.metrics import silhouette_score\n",
    "\n",
    "# Range of candidate cluster counts\n",
    "k_range = range(2, 11)     # try 2–10 clusters; adjust as you like\n",
    "sil_scores = []\n",
    "\n",
    "for k in k_range:\n",
    "    # Fit hierarchical clustering with Ward linkage (same as dendrogram)\n",
    "    labels = AgglomerativeClustering(n_clusters=k, linkage=\"ward\").fit_predict(X_scaled)\n",
    "\n",
    "    # Silhouette: +1 = dense & well‑separated, 0 = overlapping, −1 = wrong clustering\n",
    "    score = silhouette_score(X_scaled, labels)\n",
    "    sil_scores.append(score)\n",
    "\n",
    "# Plot the curve\n",
    "plt.figure(figsize=(7,4))\n",
    "plt.plot(list(k_range), sil_scores, marker=\"o\")\n",
    "plt.xticks(list(k_range))\n",
    "plt.xlabel(\"Number of Clusters (k)\")\n",
    "plt.ylabel(\"Average Silhouette Score\")\n",
    "plt.title(\"Silhouette Analysis for Agglomerative (Ward) Clustering\")\n",
    "plt.grid(True, alpha=0.3)\n",
    "plt.show()\n",
    "\n",
    "# Optional: print best k\n",
    "best_k = k_range[np.argmax(sil_scores)]\n",
    "print(f\"Best k by silhouette: {best_k}  (score={max(sil_scores):.3f})\")"
   ]
  }
 ],
 "metadata": {
  "colab": {
   "provenance": []
  },
  "kernelspec": {
   "display_name": "base",
   "language": "python",
   "name": "python3"
  },
  "language_info": {
   "codemirror_mode": {
    "name": "ipython",
    "version": 3
   },
   "file_extension": ".py",
   "mimetype": "text/x-python",
   "name": "python",
   "nbconvert_exporter": "python",
   "pygments_lexer": "ipython3",
   "version": "3.12.4"
  }
 },
 "nbformat": 4,
 "nbformat_minor": 0
}
