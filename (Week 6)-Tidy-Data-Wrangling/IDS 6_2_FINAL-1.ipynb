{
 "cells": [
  {
   "cell_type": "markdown",
   "metadata": {
    "id": "XjFgWw51HwDo"
   },
   "source": [
    "## Section 1: Combining and Cleaning Data"
   ]
  },
  {
   "cell_type": "markdown",
   "metadata": {
    "id": "s3-QBbg8H2Al"
   },
   "source": [
    "### `pd.concat()`\n",
    "- **Purpose**: Combines multiple DataFrames into one.\n",
    "\n",
    "- **Key Parameter**:\n",
    "    - `ignore_index`: When set to `True` resets the index so that the resulting DataFrame has a new continuous index."
   ]
  },
  {
   "cell_type": "code",
   "execution_count": null,
   "metadata": {
    "colab": {
     "base_uri": "https://localhost:8080/"
    },
    "executionInfo": {
     "elapsed": 954,
     "status": "ok",
     "timestamp": 1739815252994,
     "user": {
      "displayName": "David Smiley",
      "userId": "04196970161563073370"
     },
     "user_tz": 300
    },
    "id": "Es0TZvqtEXVO",
    "outputId": "ae99177d-0be9-4e61-9992-fc057b5aef75"
   },
   "outputs": [
    {
     "name": "stdout",
     "output_type": "stream",
     "text": [
      "Combined DataFrame:\n",
      "   EmployeeID     Name Department  Salary\n",
      "0         101    Alice      Sales   60000\n",
      "1         102      Bob      Sales   62000\n",
      "2         103  Charlie      Sales   61000\n",
      "3         104    David  Marketing   65000\n",
      "4         105      Eva  Marketing   67000\n"
     ]
    }
   ],
   "source": [
    "import pandas as pd\n",
    "\n",
    "# Department 1 data\n",
    "df_dept1 = pd.DataFrame({\n",
    "    'EmployeeID': [101, 102, 103],\n",
    "    'Name': ['Alice', 'Bob', 'Michael'],\n",
    "    'Department': ['Sales', 'Sales', 'Sales'],\n",
    "    'Salary': [60000, 62000, 61000]\n",
    "})\n",
    "\n",
    "# Department 2 data\n",
    "df_dept2 = pd.DataFrame({\n",
    "    'EmployeeID': [104, 105],\n",
    "    'Name': ['David', 'Henry'],\n",
    "    'Department': ['Marketing', 'Marketing'],\n",
    "    'Salary': [65000, 67000]\n",
    "})\n",
    "\n",
    "# Concatenating the two DataFrames (vertical concatenation)\n",
    "df_employees = pd.concat([df_dept1, df_dept2], ignore_index=True)\n",
    "print(\"Combined DataFrame:\")\n",
    "print(df_employees)"
   ]
  },
  {
   "cell_type": "markdown",
   "metadata": {
    "id": "6_45vWI-IHpa"
   },
   "source": [
    "### `rename()`\n",
    "- **Purpose**: Changes column names to more meaningful or standardized labels.\n",
    "- **Key Parameter**:\n",
    "    - `columns`: A dictionary mapping old column names to new names."
   ]
  },
  {
   "cell_type": "code",
   "execution_count": null,
   "metadata": {
    "colab": {
     "base_uri": "https://localhost:8080/"
    },
    "executionInfo": {
     "elapsed": 103,
     "status": "ok",
     "timestamp": 1739815293528,
     "user": {
      "displayName": "David Smiley",
      "userId": "04196970161563073370"
     },
     "user_tz": 300
    },
    "id": "fd063VWFEerp",
    "outputId": "67357a06-9adb-4858-d6c0-f834c8c844d2"
   },
   "outputs": [
    {
     "name": "stdout",
     "output_type": "stream",
     "text": [
      "\n",
      "Renamed DataFrame:\n",
      "   Emp_ID Employee_Name       Dept  Annual_Salary\n",
      "0     101         Alice      Sales          60000\n",
      "1     102           Bob      Sales          62000\n",
      "2     103       Charlie      Sales          61000\n",
      "3     104         David  Marketing          65000\n",
      "4     105           Eva  Marketing          67000\n"
     ]
    }
   ],
   "source": [
    "# Rename columns to more descriptive names\n",
    "df_employees_renamed = df_employees.rename(columns={\n",
    "    'EmployeeID': 'Emp_ID',\n",
    "    'Name': 'Employee_Name',\n",
    "    'Department': 'Dept',\n",
    "    'Salary': 'Annual_Salary'\n",
    "})\n",
    "print(\"\\nRenamed DataFrame:\")\n",
    "print(df_employees_renamed)"
   ]
  },
  {
   "cell_type": "markdown",
   "metadata": {
    "id": "vHt823y8IUBw"
   },
   "source": [
    "### `sort_values()`\n",
    "- **Purpose**: Sorts the DataFrame by a specific column.\n",
    "- **Key Parameter**:\n",
    "    - `by`: Specifies the column(s) to sort by.\n",
    "    - `ascending`: When set to `False` sorts the data in descending order."
   ]
  },
  {
   "cell_type": "code",
   "execution_count": null,
   "metadata": {
    "colab": {
     "base_uri": "https://localhost:8080/"
    },
    "executionInfo": {
     "elapsed": 112,
     "status": "ok",
     "timestamp": 1739815299145,
     "user": {
      "displayName": "David Smiley",
      "userId": "04196970161563073370"
     },
     "user_tz": 300
    },
    "id": "MED8LAAeEg-G",
    "outputId": "90127799-b783-40ce-e2c1-59a050b4434c"
   },
   "outputs": [
    {
     "name": "stdout",
     "output_type": "stream",
     "text": [
      "\n",
      "DataFrame Sorted by Annual Salary (Descending):\n",
      "   Emp_ID Employee_Name       Dept  Annual_Salary\n",
      "4     105           Eva  Marketing          67000\n",
      "3     104         David  Marketing          65000\n",
      "1     102           Bob      Sales          62000\n",
      "2     103       Charlie      Sales          61000\n",
      "0     101         Alice      Sales          60000\n"
     ]
    }
   ],
   "source": [
    "# Sort by Annual_Salary in descending order\n",
    "df_sorted = df_employees_renamed.sort_values(by='Annual_Salary', ascending=False)\n",
    "print(\"\\nDataFrame Sorted by Annual Salary (Descending):\")\n",
    "print(df_sorted)"
   ]
  },
  {
   "cell_type": "markdown",
   "metadata": {
    "id": "8ZntpkBqIjrz"
   },
   "source": [
    "## Section 2: Method Chaining"
   ]
  },
  {
   "cell_type": "markdown",
   "metadata": {
    "id": "BF4iWf3OIlWD"
   },
   "source": [
    "### **Concept**: Combining several DataFrame operations into one continuous expression.\n",
    "\n",
    "### **Advantages**:\n",
    "- Improves readability and conciseness.\n",
    "- Reduces the need for intermediate variables.\n",
    "\n",
    "### Steps in this chain:\n",
    "- **Concatenation**: Merges the two department DataFrames.\n",
    "- **Renaming**: Standardizes column names.\n",
    "- **Sorting**: Orders the DataFrame by annual salary in descending order."
   ]
  },
  {
   "cell_type": "code",
   "execution_count": null,
   "metadata": {
    "colab": {
     "base_uri": "https://localhost:8080/"
    },
    "executionInfo": {
     "elapsed": 100,
     "status": "ok",
     "timestamp": 1739815331961,
     "user": {
      "displayName": "David Smiley",
      "userId": "04196970161563073370"
     },
     "user_tz": 300
    },
    "id": "Vomj3s-3EyBM",
    "outputId": "37faff23-a1bc-4f69-dc69-3aa5c5389b83"
   },
   "outputs": [
    {
     "name": "stdout",
     "output_type": "stream",
     "text": [
      "Combined and Cleaned Employee DataFrame:\n",
      "   EmployeeID EmployeeName Department  AnnualSalary\n",
      "4         105          Eva  Marketing         67000\n",
      "3         104        David  Marketing         65000\n",
      "1         102          Bob      Sales         62000\n",
      "2         103      Charlie      Sales         61000\n",
      "0         101        Alice      Sales         60000\n"
     ]
    }
   ],
   "source": [
    "import pandas as pd\n",
    "\n",
    "# Department 1 data\n",
    "df_dept1 = pd.DataFrame({\n",
    "    'EmployeeID': [101, 102, 103],\n",
    "    'Name': ['Alice', 'Bob', 'Michael'],\n",
    "    'Department': ['Sales', 'Sales', 'Sales'],\n",
    "    'Salary': [60000, 62000, 61000]\n",
    "})\n",
    "\n",
    "# Department 2 data\n",
    "df_dept2 = pd.DataFrame({\n",
    "    'EmployeeID': [104, 105],\n",
    "    'Name': ['David', 'Henry'],\n",
    "    'Department': ['Marketing', 'Marketing'],\n",
    "    'Salary': [65000, 67000]\n",
    "})\n",
    "\n",
    "# Method chaining: Combine, rename, and sort in descending order of salary.\n",
    "df_employees = (\n",
    "    pd.concat([df_dept1, df_dept2], ignore_index=True)\n",
    "    .rename(columns={\n",
    "        'EmployeeID': 'Emp_ID',\n",
    "        'Name': 'Employee_Name',\n",
    "        'Department': 'Dept',\n",
    "        'Salary': 'Annual_Salary'\n",
    "    })\n",
    "    .sort_values(by='AnnualSalary', ascending=False)\n",
    ")\n",
    "\n",
    "print(\"Combined and Cleaned Employee DataFrame:\")\n",
    "print(df_employees)"
   ]
  },
  {
   "cell_type": "markdown",
   "metadata": {
    "id": "bv35Qs3iI6_j"
   },
   "source": [
    "## Group Activity: Cleaning an Untidy Sales Dataset Using Method Chaining"
   ]
  },
  {
   "cell_type": "markdown",
   "metadata": {
    "id": "E4t67jTUJDKq"
   },
   "source": [
    "### Method Chaining Instructions:\n",
    "- Remove duplicates.\n",
    "- Fill missing values with 0.\n",
    "- Reshape the DataFrame from wide to long format.\n",
    "- Sort the final DataFrame."
   ]
  },
  {
   "cell_type": "code",
   "execution_count": null,
   "metadata": {
    "id": "6ajePSEdE0qa"
   },
   "outputs": [],
   "source": [
    "import pandas as pd\n",
    "\n",
    "df_sales = pd.DataFrame({\n",
    "    'Product': [\n",
    "        'Widget A', 'Widget B', 'Widget A', 'Widget C',\n",
    "        'Widget B', 'Widget A', 'Widget D', 'Widget E',\n",
    "        'Widget C', 'Widget D', 'Widget B', 'Widget E'\n",
    "    ],\n",
    "    'Region': [\n",
    "        'North', 'South', 'North', 'East',\n",
    "        'South', 'North', 'West', 'East',\n",
    "        'Central', 'North', 'West', 'South'\n",
    "    ],\n",
    "    'Sales_Q1': [100, 200, 100, 150, None, 100, 180, 210, 140, 190, 205, 220],\n",
    "    'Sales_Q2': [110, None, 110, 160, 210, 110, 185, 220, 150, 200, 215, 230],\n",
    "    'Sales_Q3': [105, 205, 105, None, 215, 105, 175, 205, 145, 195, 210, 225],\n",
    "    'Sales_Q4': [115, 215, 115, 165, 225, None, 190, 215, 155, 205, 220, 235]\n",
    "})\n",
    "\n",
    "print(\"Expanded df_sales DataFrame:\")\n",
    "print(df_sales)\n",
    "\n",
    "\n",
    "# Method chaining: Clean the dataset in one pipeline.\n",
    "df_sales_clean = (\n",
    "    df_sales\n",
    "    .drop_duplicates()                          # Remove duplicate rows\n",
    "    .fillna(0)                                   # Replace missing sales with 0\n",
    "    .melt(id_vars=['Product', 'Region'],         # Reshape from wide to long format\n",
    "          value_vars=['Sales_Q1', 'Sales_Q2', 'Sales_Q3', 'Sales_Q4'],\n",
    "          var_name='Quarter',\n",
    "          value_name='Sales')\n",
    "    .assign(Quarter=lambda df: df['Quarter'].str.replace('Sales_', '')) # Clean Quarter names\n",
    "    .sort_values(by=['Region', 'Product', 'Quarter'])  # Sort data\n",
    ")\n",
    "\n",
    "print(\"Recovered and Tidy Sales Data:\")\n",
    "df_sales_clean"
   ]
  },
  {
   "cell_type": "code",
   "execution_count": null,
   "metadata": {
    "id": "86hM-4tPKkZA"
   },
   "outputs": [],
   "source": [
    "import seaborn as sns\n",
    "# Create a pivot table that calculates the sum of sales per Product per Region\n",
    "pivot_sales = pd.pivot_table(\n",
    "    df_sales_clean,\n",
    "    values='Sales',\n",
    "    index=['Product', 'Region'],\n",
    "    columns='Quarter',\n",
    "    aggfunc='sum',\n",
    "    fill_value=0\n",
    ")\n",
    "\n",
    "print(\"Pivot Table of Average Sales:\")\n",
    "print(pivot_sales)"
   ]
  }
 ],
 "metadata": {
  "colab": {
   "authorship_tag": "ABX9TyP/e7x14FJ8sPZxbIBKDpsY",
   "provenance": [],
   "toc_visible": true
  },
  "kernelspec": {
   "display_name": "base",
   "language": "python",
   "name": "python3"
  },
  "language_info": {
   "name": "python",
   "version": "3.12.4"
  }
 },
 "nbformat": 4,
 "nbformat_minor": 0
}
